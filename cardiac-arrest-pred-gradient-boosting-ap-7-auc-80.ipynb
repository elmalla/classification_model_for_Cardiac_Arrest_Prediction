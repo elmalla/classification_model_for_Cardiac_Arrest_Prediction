{
 "cells": [
  {
   "cell_type": "markdown",
   "id": "535e8c3d",
   "metadata": {
    "papermill": {
     "duration": 0.01499,
     "end_time": "2022-06-07T14:42:18.623258",
     "exception": false,
     "start_time": "2022-06-07T14:42:18.608268",
     "status": "completed"
    },
    "tags": []
   },
   "source": [
    "# Building a classification model for Cardiac Arrest Prediction "
   ]
  },
  {
   "cell_type": "code",
   "execution_count": 1,
   "id": "9089e8d2",
   "metadata": {
    "execution": {
     "iopub.execute_input": "2022-06-07T14:42:18.649282Z",
     "iopub.status.busy": "2022-06-07T14:42:18.648797Z",
     "iopub.status.idle": "2022-06-07T14:42:19.798980Z",
     "shell.execute_reply": "2022-06-07T14:42:19.798043Z"
    },
    "papermill": {
     "duration": 1.165906,
     "end_time": "2022-06-07T14:42:19.801451",
     "exception": false,
     "start_time": "2022-06-07T14:42:18.635545",
     "status": "completed"
    },
    "tags": []
   },
   "outputs": [],
   "source": [
    "import pandas as  pd\n",
    "import seaborn as sns\n",
    "import matplotlib.pyplot as plt\n",
    "import pickle\n",
    "import numpy as np\n",
    "import warnings\n",
    "warnings.filterwarnings('ignore')"
   ]
  },
  {
   "cell_type": "code",
   "execution_count": 2,
   "id": "ad6afde0",
   "metadata": {
    "execution": {
     "iopub.execute_input": "2022-06-07T14:42:19.827118Z",
     "iopub.status.busy": "2022-06-07T14:42:19.826725Z",
     "iopub.status.idle": "2022-06-07T14:42:19.974690Z",
     "shell.execute_reply": "2022-06-07T14:42:19.973765Z"
    },
    "papermill": {
     "duration": 0.164156,
     "end_time": "2022-06-07T14:42:19.977650",
     "exception": false,
     "start_time": "2022-06-07T14:42:19.813494",
     "status": "completed"
    },
    "scrolled": true,
    "tags": []
   },
   "outputs": [
    {
     "data": {
      "text/html": [
       "<div>\n",
       "<style scoped>\n",
       "    .dataframe tbody tr th:only-of-type {\n",
       "        vertical-align: middle;\n",
       "    }\n",
       "\n",
       "    .dataframe tbody tr th {\n",
       "        vertical-align: top;\n",
       "    }\n",
       "\n",
       "    .dataframe thead th {\n",
       "        text-align: right;\n",
       "    }\n",
       "</style>\n",
       "<table border=\"1\" class=\"dataframe\">\n",
       "  <thead>\n",
       "    <tr style=\"text-align: right;\">\n",
       "      <th></th>\n",
       "      <th>id</th>\n",
       "      <th>age</th>\n",
       "      <th>gender</th>\n",
       "      <th>height</th>\n",
       "      <th>weight</th>\n",
       "      <th>ap_hi</th>\n",
       "      <th>ap_lo</th>\n",
       "      <th>cholesterol</th>\n",
       "      <th>gluc</th>\n",
       "      <th>smoke</th>\n",
       "      <th>alco</th>\n",
       "      <th>active</th>\n",
       "      <th>cardio</th>\n",
       "    </tr>\n",
       "  </thead>\n",
       "  <tbody>\n",
       "    <tr>\n",
       "      <th>0</th>\n",
       "      <td>0</td>\n",
       "      <td>18393</td>\n",
       "      <td>2</td>\n",
       "      <td>168</td>\n",
       "      <td>62.0</td>\n",
       "      <td>110</td>\n",
       "      <td>80</td>\n",
       "      <td>1</td>\n",
       "      <td>1</td>\n",
       "      <td>0</td>\n",
       "      <td>0</td>\n",
       "      <td>1</td>\n",
       "      <td>0</td>\n",
       "    </tr>\n",
       "    <tr>\n",
       "      <th>1</th>\n",
       "      <td>1</td>\n",
       "      <td>20228</td>\n",
       "      <td>1</td>\n",
       "      <td>156</td>\n",
       "      <td>85.0</td>\n",
       "      <td>140</td>\n",
       "      <td>90</td>\n",
       "      <td>3</td>\n",
       "      <td>1</td>\n",
       "      <td>0</td>\n",
       "      <td>0</td>\n",
       "      <td>1</td>\n",
       "      <td>1</td>\n",
       "    </tr>\n",
       "    <tr>\n",
       "      <th>2</th>\n",
       "      <td>2</td>\n",
       "      <td>18857</td>\n",
       "      <td>1</td>\n",
       "      <td>165</td>\n",
       "      <td>64.0</td>\n",
       "      <td>130</td>\n",
       "      <td>70</td>\n",
       "      <td>3</td>\n",
       "      <td>1</td>\n",
       "      <td>0</td>\n",
       "      <td>0</td>\n",
       "      <td>0</td>\n",
       "      <td>1</td>\n",
       "    </tr>\n",
       "    <tr>\n",
       "      <th>3</th>\n",
       "      <td>3</td>\n",
       "      <td>17623</td>\n",
       "      <td>2</td>\n",
       "      <td>169</td>\n",
       "      <td>82.0</td>\n",
       "      <td>150</td>\n",
       "      <td>100</td>\n",
       "      <td>1</td>\n",
       "      <td>1</td>\n",
       "      <td>0</td>\n",
       "      <td>0</td>\n",
       "      <td>1</td>\n",
       "      <td>1</td>\n",
       "    </tr>\n",
       "    <tr>\n",
       "      <th>4</th>\n",
       "      <td>4</td>\n",
       "      <td>17474</td>\n",
       "      <td>1</td>\n",
       "      <td>156</td>\n",
       "      <td>56.0</td>\n",
       "      <td>100</td>\n",
       "      <td>60</td>\n",
       "      <td>1</td>\n",
       "      <td>1</td>\n",
       "      <td>0</td>\n",
       "      <td>0</td>\n",
       "      <td>0</td>\n",
       "      <td>0</td>\n",
       "    </tr>\n",
       "    <tr>\n",
       "      <th>...</th>\n",
       "      <td>...</td>\n",
       "      <td>...</td>\n",
       "      <td>...</td>\n",
       "      <td>...</td>\n",
       "      <td>...</td>\n",
       "      <td>...</td>\n",
       "      <td>...</td>\n",
       "      <td>...</td>\n",
       "      <td>...</td>\n",
       "      <td>...</td>\n",
       "      <td>...</td>\n",
       "      <td>...</td>\n",
       "      <td>...</td>\n",
       "    </tr>\n",
       "    <tr>\n",
       "      <th>69995</th>\n",
       "      <td>99993</td>\n",
       "      <td>19240</td>\n",
       "      <td>2</td>\n",
       "      <td>168</td>\n",
       "      <td>76.0</td>\n",
       "      <td>120</td>\n",
       "      <td>80</td>\n",
       "      <td>1</td>\n",
       "      <td>1</td>\n",
       "      <td>1</td>\n",
       "      <td>0</td>\n",
       "      <td>1</td>\n",
       "      <td>0</td>\n",
       "    </tr>\n",
       "    <tr>\n",
       "      <th>69996</th>\n",
       "      <td>99995</td>\n",
       "      <td>22601</td>\n",
       "      <td>1</td>\n",
       "      <td>158</td>\n",
       "      <td>126.0</td>\n",
       "      <td>140</td>\n",
       "      <td>90</td>\n",
       "      <td>2</td>\n",
       "      <td>2</td>\n",
       "      <td>0</td>\n",
       "      <td>0</td>\n",
       "      <td>1</td>\n",
       "      <td>1</td>\n",
       "    </tr>\n",
       "    <tr>\n",
       "      <th>69997</th>\n",
       "      <td>99996</td>\n",
       "      <td>19066</td>\n",
       "      <td>2</td>\n",
       "      <td>183</td>\n",
       "      <td>105.0</td>\n",
       "      <td>180</td>\n",
       "      <td>90</td>\n",
       "      <td>3</td>\n",
       "      <td>1</td>\n",
       "      <td>0</td>\n",
       "      <td>1</td>\n",
       "      <td>0</td>\n",
       "      <td>1</td>\n",
       "    </tr>\n",
       "    <tr>\n",
       "      <th>69998</th>\n",
       "      <td>99998</td>\n",
       "      <td>22431</td>\n",
       "      <td>1</td>\n",
       "      <td>163</td>\n",
       "      <td>72.0</td>\n",
       "      <td>135</td>\n",
       "      <td>80</td>\n",
       "      <td>1</td>\n",
       "      <td>2</td>\n",
       "      <td>0</td>\n",
       "      <td>0</td>\n",
       "      <td>0</td>\n",
       "      <td>1</td>\n",
       "    </tr>\n",
       "    <tr>\n",
       "      <th>69999</th>\n",
       "      <td>99999</td>\n",
       "      <td>20540</td>\n",
       "      <td>1</td>\n",
       "      <td>170</td>\n",
       "      <td>72.0</td>\n",
       "      <td>120</td>\n",
       "      <td>80</td>\n",
       "      <td>2</td>\n",
       "      <td>1</td>\n",
       "      <td>0</td>\n",
       "      <td>0</td>\n",
       "      <td>1</td>\n",
       "      <td>0</td>\n",
       "    </tr>\n",
       "  </tbody>\n",
       "</table>\n",
       "<p>70000 rows × 13 columns</p>\n",
       "</div>"
      ],
      "text/plain": [
       "          id    age  gender  height  weight  ap_hi  ap_lo  cholesterol  gluc  \\\n",
       "0          0  18393       2     168    62.0    110     80            1     1   \n",
       "1          1  20228       1     156    85.0    140     90            3     1   \n",
       "2          2  18857       1     165    64.0    130     70            3     1   \n",
       "3          3  17623       2     169    82.0    150    100            1     1   \n",
       "4          4  17474       1     156    56.0    100     60            1     1   \n",
       "...      ...    ...     ...     ...     ...    ...    ...          ...   ...   \n",
       "69995  99993  19240       2     168    76.0    120     80            1     1   \n",
       "69996  99995  22601       1     158   126.0    140     90            2     2   \n",
       "69997  99996  19066       2     183   105.0    180     90            3     1   \n",
       "69998  99998  22431       1     163    72.0    135     80            1     2   \n",
       "69999  99999  20540       1     170    72.0    120     80            2     1   \n",
       "\n",
       "       smoke  alco  active  cardio  \n",
       "0          0     0       1       0  \n",
       "1          0     0       1       1  \n",
       "2          0     0       0       1  \n",
       "3          0     0       1       1  \n",
       "4          0     0       0       0  \n",
       "...      ...   ...     ...     ...  \n",
       "69995      1     0       1       0  \n",
       "69996      0     0       1       1  \n",
       "69997      0     1       0       1  \n",
       "69998      0     0       0       1  \n",
       "69999      0     0       1       0  \n",
       "\n",
       "[70000 rows x 13 columns]"
      ]
     },
     "execution_count": 2,
     "metadata": {},
     "output_type": "execute_result"
    }
   ],
   "source": [
    "data=pd.read_csv('../input/cardio-train/cardio_train.csv')\n",
    "data"
   ]
  },
  {
   "cell_type": "code",
   "execution_count": 3,
   "id": "70f4d0f7",
   "metadata": {
    "execution": {
     "iopub.execute_input": "2022-06-07T14:42:20.005100Z",
     "iopub.status.busy": "2022-06-07T14:42:20.004549Z",
     "iopub.status.idle": "2022-06-07T14:42:20.060038Z",
     "shell.execute_reply": "2022-06-07T14:42:20.058921Z"
    },
    "papermill": {
     "duration": 0.072426,
     "end_time": "2022-06-07T14:42:20.062729",
     "exception": false,
     "start_time": "2022-06-07T14:42:19.990303",
     "status": "completed"
    },
    "tags": []
   },
   "outputs": [
    {
     "data": {
      "text/html": [
       "<div>\n",
       "<style scoped>\n",
       "    .dataframe tbody tr th:only-of-type {\n",
       "        vertical-align: middle;\n",
       "    }\n",
       "\n",
       "    .dataframe tbody tr th {\n",
       "        vertical-align: top;\n",
       "    }\n",
       "\n",
       "    .dataframe thead th {\n",
       "        text-align: right;\n",
       "    }\n",
       "</style>\n",
       "<table border=\"1\" class=\"dataframe\">\n",
       "  <thead>\n",
       "    <tr style=\"text-align: right;\">\n",
       "      <th></th>\n",
       "      <th>id</th>\n",
       "      <th>age</th>\n",
       "      <th>gender</th>\n",
       "      <th>height</th>\n",
       "      <th>weight</th>\n",
       "      <th>ap_hi</th>\n",
       "      <th>ap_lo</th>\n",
       "      <th>cholesterol</th>\n",
       "      <th>gluc</th>\n",
       "      <th>smoke</th>\n",
       "      <th>alco</th>\n",
       "      <th>active</th>\n",
       "      <th>cardio</th>\n",
       "    </tr>\n",
       "  </thead>\n",
       "  <tbody>\n",
       "    <tr>\n",
       "      <th>0</th>\n",
       "      <td>0</td>\n",
       "      <td>18393</td>\n",
       "      <td>2</td>\n",
       "      <td>168</td>\n",
       "      <td>62.0</td>\n",
       "      <td>110</td>\n",
       "      <td>80</td>\n",
       "      <td>1</td>\n",
       "      <td>1</td>\n",
       "      <td>0</td>\n",
       "      <td>0</td>\n",
       "      <td>1</td>\n",
       "      <td>0</td>\n",
       "    </tr>\n",
       "    <tr>\n",
       "      <th>1</th>\n",
       "      <td>1</td>\n",
       "      <td>20228</td>\n",
       "      <td>1</td>\n",
       "      <td>156</td>\n",
       "      <td>85.0</td>\n",
       "      <td>140</td>\n",
       "      <td>90</td>\n",
       "      <td>3</td>\n",
       "      <td>1</td>\n",
       "      <td>0</td>\n",
       "      <td>0</td>\n",
       "      <td>1</td>\n",
       "      <td>1</td>\n",
       "    </tr>\n",
       "    <tr>\n",
       "      <th>2</th>\n",
       "      <td>2</td>\n",
       "      <td>18857</td>\n",
       "      <td>1</td>\n",
       "      <td>165</td>\n",
       "      <td>64.0</td>\n",
       "      <td>130</td>\n",
       "      <td>70</td>\n",
       "      <td>3</td>\n",
       "      <td>1</td>\n",
       "      <td>0</td>\n",
       "      <td>0</td>\n",
       "      <td>0</td>\n",
       "      <td>1</td>\n",
       "    </tr>\n",
       "    <tr>\n",
       "      <th>3</th>\n",
       "      <td>3</td>\n",
       "      <td>17623</td>\n",
       "      <td>2</td>\n",
       "      <td>169</td>\n",
       "      <td>82.0</td>\n",
       "      <td>150</td>\n",
       "      <td>100</td>\n",
       "      <td>1</td>\n",
       "      <td>1</td>\n",
       "      <td>0</td>\n",
       "      <td>0</td>\n",
       "      <td>1</td>\n",
       "      <td>1</td>\n",
       "    </tr>\n",
       "    <tr>\n",
       "      <th>4</th>\n",
       "      <td>4</td>\n",
       "      <td>17474</td>\n",
       "      <td>1</td>\n",
       "      <td>156</td>\n",
       "      <td>56.0</td>\n",
       "      <td>100</td>\n",
       "      <td>60</td>\n",
       "      <td>1</td>\n",
       "      <td>1</td>\n",
       "      <td>0</td>\n",
       "      <td>0</td>\n",
       "      <td>0</td>\n",
       "      <td>0</td>\n",
       "    </tr>\n",
       "    <tr>\n",
       "      <th>...</th>\n",
       "      <td>...</td>\n",
       "      <td>...</td>\n",
       "      <td>...</td>\n",
       "      <td>...</td>\n",
       "      <td>...</td>\n",
       "      <td>...</td>\n",
       "      <td>...</td>\n",
       "      <td>...</td>\n",
       "      <td>...</td>\n",
       "      <td>...</td>\n",
       "      <td>...</td>\n",
       "      <td>...</td>\n",
       "      <td>...</td>\n",
       "    </tr>\n",
       "    <tr>\n",
       "      <th>69995</th>\n",
       "      <td>99993</td>\n",
       "      <td>19240</td>\n",
       "      <td>2</td>\n",
       "      <td>168</td>\n",
       "      <td>76.0</td>\n",
       "      <td>120</td>\n",
       "      <td>80</td>\n",
       "      <td>1</td>\n",
       "      <td>1</td>\n",
       "      <td>1</td>\n",
       "      <td>0</td>\n",
       "      <td>1</td>\n",
       "      <td>0</td>\n",
       "    </tr>\n",
       "    <tr>\n",
       "      <th>69996</th>\n",
       "      <td>99995</td>\n",
       "      <td>22601</td>\n",
       "      <td>1</td>\n",
       "      <td>158</td>\n",
       "      <td>126.0</td>\n",
       "      <td>140</td>\n",
       "      <td>90</td>\n",
       "      <td>2</td>\n",
       "      <td>2</td>\n",
       "      <td>0</td>\n",
       "      <td>0</td>\n",
       "      <td>1</td>\n",
       "      <td>1</td>\n",
       "    </tr>\n",
       "    <tr>\n",
       "      <th>69997</th>\n",
       "      <td>99996</td>\n",
       "      <td>19066</td>\n",
       "      <td>2</td>\n",
       "      <td>183</td>\n",
       "      <td>105.0</td>\n",
       "      <td>180</td>\n",
       "      <td>90</td>\n",
       "      <td>3</td>\n",
       "      <td>1</td>\n",
       "      <td>0</td>\n",
       "      <td>1</td>\n",
       "      <td>0</td>\n",
       "      <td>1</td>\n",
       "    </tr>\n",
       "    <tr>\n",
       "      <th>69998</th>\n",
       "      <td>99998</td>\n",
       "      <td>22431</td>\n",
       "      <td>1</td>\n",
       "      <td>163</td>\n",
       "      <td>72.0</td>\n",
       "      <td>135</td>\n",
       "      <td>80</td>\n",
       "      <td>1</td>\n",
       "      <td>2</td>\n",
       "      <td>0</td>\n",
       "      <td>0</td>\n",
       "      <td>0</td>\n",
       "      <td>1</td>\n",
       "    </tr>\n",
       "    <tr>\n",
       "      <th>69999</th>\n",
       "      <td>99999</td>\n",
       "      <td>20540</td>\n",
       "      <td>1</td>\n",
       "      <td>170</td>\n",
       "      <td>72.0</td>\n",
       "      <td>120</td>\n",
       "      <td>80</td>\n",
       "      <td>2</td>\n",
       "      <td>1</td>\n",
       "      <td>0</td>\n",
       "      <td>0</td>\n",
       "      <td>1</td>\n",
       "      <td>0</td>\n",
       "    </tr>\n",
       "  </tbody>\n",
       "</table>\n",
       "<p>70000 rows × 13 columns</p>\n",
       "</div>"
      ],
      "text/plain": [
       "          id    age  gender  height  weight  ap_hi  ap_lo  cholesterol  gluc  \\\n",
       "0          0  18393       2     168    62.0    110     80            1     1   \n",
       "1          1  20228       1     156    85.0    140     90            3     1   \n",
       "2          2  18857       1     165    64.0    130     70            3     1   \n",
       "3          3  17623       2     169    82.0    150    100            1     1   \n",
       "4          4  17474       1     156    56.0    100     60            1     1   \n",
       "...      ...    ...     ...     ...     ...    ...    ...          ...   ...   \n",
       "69995  99993  19240       2     168    76.0    120     80            1     1   \n",
       "69996  99995  22601       1     158   126.0    140     90            2     2   \n",
       "69997  99996  19066       2     183   105.0    180     90            3     1   \n",
       "69998  99998  22431       1     163    72.0    135     80            1     2   \n",
       "69999  99999  20540       1     170    72.0    120     80            2     1   \n",
       "\n",
       "       smoke  alco  active  cardio  \n",
       "0          0     0       1       0  \n",
       "1          0     0       1       1  \n",
       "2          0     0       0       1  \n",
       "3          0     0       1       1  \n",
       "4          0     0       0       0  \n",
       "...      ...   ...     ...     ...  \n",
       "69995      1     0       1       0  \n",
       "69996      0     0       1       1  \n",
       "69997      0     1       0       1  \n",
       "69998      0     0       0       1  \n",
       "69999      0     0       1       0  \n",
       "\n",
       "[70000 rows x 13 columns]"
      ]
     },
     "execution_count": 3,
     "metadata": {},
     "output_type": "execute_result"
    }
   ],
   "source": [
    "data=data.drop_duplicates()\n",
    "data"
   ]
  },
  {
   "cell_type": "code",
   "execution_count": 4,
   "id": "5179b5c0",
   "metadata": {
    "execution": {
     "iopub.execute_input": "2022-06-07T14:42:20.096593Z",
     "iopub.status.busy": "2022-06-07T14:42:20.095496Z",
     "iopub.status.idle": "2022-06-07T14:42:20.107532Z",
     "shell.execute_reply": "2022-06-07T14:42:20.106404Z"
    },
    "papermill": {
     "duration": 0.032021,
     "end_time": "2022-06-07T14:42:20.110464",
     "exception": false,
     "start_time": "2022-06-07T14:42:20.078443",
     "status": "completed"
    },
    "tags": []
   },
   "outputs": [],
   "source": [
    "data=data.drop(['id','active'],axis=1)"
   ]
  },
  {
   "cell_type": "code",
   "execution_count": 5,
   "id": "243d4d22",
   "metadata": {
    "execution": {
     "iopub.execute_input": "2022-06-07T14:42:20.148732Z",
     "iopub.status.busy": "2022-06-07T14:42:20.148296Z",
     "iopub.status.idle": "2022-06-07T14:42:20.157392Z",
     "shell.execute_reply": "2022-06-07T14:42:20.156527Z"
    },
    "papermill": {
     "duration": 0.030103,
     "end_time": "2022-06-07T14:42:20.159396",
     "exception": false,
     "start_time": "2022-06-07T14:42:20.129293",
     "status": "completed"
    },
    "tags": []
   },
   "outputs": [],
   "source": [
    "data.age=round(data.age/365)"
   ]
  },
  {
   "cell_type": "code",
   "execution_count": 6,
   "id": "abffd42d",
   "metadata": {
    "execution": {
     "iopub.execute_input": "2022-06-07T14:42:20.186372Z",
     "iopub.status.busy": "2022-06-07T14:42:20.185980Z",
     "iopub.status.idle": "2022-06-07T14:42:20.203072Z",
     "shell.execute_reply": "2022-06-07T14:42:20.202449Z"
    },
    "papermill": {
     "duration": 0.032476,
     "end_time": "2022-06-07T14:42:20.204685",
     "exception": false,
     "start_time": "2022-06-07T14:42:20.172209",
     "status": "completed"
    },
    "tags": []
   },
   "outputs": [
    {
     "data": {
      "text/html": [
       "<div>\n",
       "<style scoped>\n",
       "    .dataframe tbody tr th:only-of-type {\n",
       "        vertical-align: middle;\n",
       "    }\n",
       "\n",
       "    .dataframe tbody tr th {\n",
       "        vertical-align: top;\n",
       "    }\n",
       "\n",
       "    .dataframe thead th {\n",
       "        text-align: right;\n",
       "    }\n",
       "</style>\n",
       "<table border=\"1\" class=\"dataframe\">\n",
       "  <thead>\n",
       "    <tr style=\"text-align: right;\">\n",
       "      <th></th>\n",
       "      <th>age</th>\n",
       "      <th>gender</th>\n",
       "      <th>height</th>\n",
       "      <th>weight</th>\n",
       "      <th>ap_hi</th>\n",
       "      <th>ap_lo</th>\n",
       "      <th>cholesterol</th>\n",
       "      <th>gluc</th>\n",
       "      <th>smoke</th>\n",
       "      <th>alco</th>\n",
       "      <th>cardio</th>\n",
       "    </tr>\n",
       "  </thead>\n",
       "  <tbody>\n",
       "    <tr>\n",
       "      <th>0</th>\n",
       "      <td>50.0</td>\n",
       "      <td>2</td>\n",
       "      <td>168</td>\n",
       "      <td>62.0</td>\n",
       "      <td>110</td>\n",
       "      <td>80</td>\n",
       "      <td>1</td>\n",
       "      <td>1</td>\n",
       "      <td>0</td>\n",
       "      <td>0</td>\n",
       "      <td>0</td>\n",
       "    </tr>\n",
       "    <tr>\n",
       "      <th>1</th>\n",
       "      <td>55.0</td>\n",
       "      <td>1</td>\n",
       "      <td>156</td>\n",
       "      <td>85.0</td>\n",
       "      <td>140</td>\n",
       "      <td>90</td>\n",
       "      <td>3</td>\n",
       "      <td>1</td>\n",
       "      <td>0</td>\n",
       "      <td>0</td>\n",
       "      <td>1</td>\n",
       "    </tr>\n",
       "    <tr>\n",
       "      <th>2</th>\n",
       "      <td>52.0</td>\n",
       "      <td>1</td>\n",
       "      <td>165</td>\n",
       "      <td>64.0</td>\n",
       "      <td>130</td>\n",
       "      <td>70</td>\n",
       "      <td>3</td>\n",
       "      <td>1</td>\n",
       "      <td>0</td>\n",
       "      <td>0</td>\n",
       "      <td>1</td>\n",
       "    </tr>\n",
       "    <tr>\n",
       "      <th>3</th>\n",
       "      <td>48.0</td>\n",
       "      <td>2</td>\n",
       "      <td>169</td>\n",
       "      <td>82.0</td>\n",
       "      <td>150</td>\n",
       "      <td>100</td>\n",
       "      <td>1</td>\n",
       "      <td>1</td>\n",
       "      <td>0</td>\n",
       "      <td>0</td>\n",
       "      <td>1</td>\n",
       "    </tr>\n",
       "    <tr>\n",
       "      <th>4</th>\n",
       "      <td>48.0</td>\n",
       "      <td>1</td>\n",
       "      <td>156</td>\n",
       "      <td>56.0</td>\n",
       "      <td>100</td>\n",
       "      <td>60</td>\n",
       "      <td>1</td>\n",
       "      <td>1</td>\n",
       "      <td>0</td>\n",
       "      <td>0</td>\n",
       "      <td>0</td>\n",
       "    </tr>\n",
       "    <tr>\n",
       "      <th>...</th>\n",
       "      <td>...</td>\n",
       "      <td>...</td>\n",
       "      <td>...</td>\n",
       "      <td>...</td>\n",
       "      <td>...</td>\n",
       "      <td>...</td>\n",
       "      <td>...</td>\n",
       "      <td>...</td>\n",
       "      <td>...</td>\n",
       "      <td>...</td>\n",
       "      <td>...</td>\n",
       "    </tr>\n",
       "    <tr>\n",
       "      <th>69995</th>\n",
       "      <td>53.0</td>\n",
       "      <td>2</td>\n",
       "      <td>168</td>\n",
       "      <td>76.0</td>\n",
       "      <td>120</td>\n",
       "      <td>80</td>\n",
       "      <td>1</td>\n",
       "      <td>1</td>\n",
       "      <td>1</td>\n",
       "      <td>0</td>\n",
       "      <td>0</td>\n",
       "    </tr>\n",
       "    <tr>\n",
       "      <th>69996</th>\n",
       "      <td>62.0</td>\n",
       "      <td>1</td>\n",
       "      <td>158</td>\n",
       "      <td>126.0</td>\n",
       "      <td>140</td>\n",
       "      <td>90</td>\n",
       "      <td>2</td>\n",
       "      <td>2</td>\n",
       "      <td>0</td>\n",
       "      <td>0</td>\n",
       "      <td>1</td>\n",
       "    </tr>\n",
       "    <tr>\n",
       "      <th>69997</th>\n",
       "      <td>52.0</td>\n",
       "      <td>2</td>\n",
       "      <td>183</td>\n",
       "      <td>105.0</td>\n",
       "      <td>180</td>\n",
       "      <td>90</td>\n",
       "      <td>3</td>\n",
       "      <td>1</td>\n",
       "      <td>0</td>\n",
       "      <td>1</td>\n",
       "      <td>1</td>\n",
       "    </tr>\n",
       "    <tr>\n",
       "      <th>69998</th>\n",
       "      <td>61.0</td>\n",
       "      <td>1</td>\n",
       "      <td>163</td>\n",
       "      <td>72.0</td>\n",
       "      <td>135</td>\n",
       "      <td>80</td>\n",
       "      <td>1</td>\n",
       "      <td>2</td>\n",
       "      <td>0</td>\n",
       "      <td>0</td>\n",
       "      <td>1</td>\n",
       "    </tr>\n",
       "    <tr>\n",
       "      <th>69999</th>\n",
       "      <td>56.0</td>\n",
       "      <td>1</td>\n",
       "      <td>170</td>\n",
       "      <td>72.0</td>\n",
       "      <td>120</td>\n",
       "      <td>80</td>\n",
       "      <td>2</td>\n",
       "      <td>1</td>\n",
       "      <td>0</td>\n",
       "      <td>0</td>\n",
       "      <td>0</td>\n",
       "    </tr>\n",
       "  </tbody>\n",
       "</table>\n",
       "<p>70000 rows × 11 columns</p>\n",
       "</div>"
      ],
      "text/plain": [
       "        age  gender  height  weight  ap_hi  ap_lo  cholesterol  gluc  smoke  \\\n",
       "0      50.0       2     168    62.0    110     80            1     1      0   \n",
       "1      55.0       1     156    85.0    140     90            3     1      0   \n",
       "2      52.0       1     165    64.0    130     70            3     1      0   \n",
       "3      48.0       2     169    82.0    150    100            1     1      0   \n",
       "4      48.0       1     156    56.0    100     60            1     1      0   \n",
       "...     ...     ...     ...     ...    ...    ...          ...   ...    ...   \n",
       "69995  53.0       2     168    76.0    120     80            1     1      1   \n",
       "69996  62.0       1     158   126.0    140     90            2     2      0   \n",
       "69997  52.0       2     183   105.0    180     90            3     1      0   \n",
       "69998  61.0       1     163    72.0    135     80            1     2      0   \n",
       "69999  56.0       1     170    72.0    120     80            2     1      0   \n",
       "\n",
       "       alco  cardio  \n",
       "0         0       0  \n",
       "1         0       1  \n",
       "2         0       1  \n",
       "3         0       1  \n",
       "4         0       0  \n",
       "...     ...     ...  \n",
       "69995     0       0  \n",
       "69996     0       1  \n",
       "69997     1       1  \n",
       "69998     0       1  \n",
       "69999     0       0  \n",
       "\n",
       "[70000 rows x 11 columns]"
      ]
     },
     "execution_count": 6,
     "metadata": {},
     "output_type": "execute_result"
    }
   ],
   "source": [
    "data"
   ]
  },
  {
   "cell_type": "code",
   "execution_count": null,
   "id": "2f54aa57",
   "metadata": {
    "papermill": {
     "duration": 0.012713,
     "end_time": "2022-06-07T14:42:20.230517",
     "exception": false,
     "start_time": "2022-06-07T14:42:20.217804",
     "status": "completed"
    },
    "tags": []
   },
   "outputs": [],
   "source": []
  },
  {
   "cell_type": "code",
   "execution_count": 7,
   "id": "45ad049a",
   "metadata": {
    "execution": {
     "iopub.execute_input": "2022-06-07T14:42:20.257957Z",
     "iopub.status.busy": "2022-06-07T14:42:20.257556Z",
     "iopub.status.idle": "2022-06-07T14:42:20.261316Z",
     "shell.execute_reply": "2022-06-07T14:42:20.260482Z"
    },
    "papermill": {
     "duration": 0.019307,
     "end_time": "2022-06-07T14:42:20.262952",
     "exception": false,
     "start_time": "2022-06-07T14:42:20.243645",
     "status": "completed"
    },
    "tags": []
   },
   "outputs": [],
   "source": [
    "# here we can get one more feature i.e BMI\n",
    "# to calculate BMI we need height in meter squared but given is cm."
   ]
  },
  {
   "cell_type": "code",
   "execution_count": 8,
   "id": "7927695f",
   "metadata": {
    "execution": {
     "iopub.execute_input": "2022-06-07T14:42:20.290775Z",
     "iopub.status.busy": "2022-06-07T14:42:20.290192Z",
     "iopub.status.idle": "2022-06-07T14:42:20.308420Z",
     "shell.execute_reply": "2022-06-07T14:42:20.307792Z"
    },
    "papermill": {
     "duration": 0.034222,
     "end_time": "2022-06-07T14:42:20.310142",
     "exception": false,
     "start_time": "2022-06-07T14:42:20.275920",
     "status": "completed"
    },
    "tags": []
   },
   "outputs": [
    {
     "data": {
      "text/html": [
       "<div>\n",
       "<style scoped>\n",
       "    .dataframe tbody tr th:only-of-type {\n",
       "        vertical-align: middle;\n",
       "    }\n",
       "\n",
       "    .dataframe tbody tr th {\n",
       "        vertical-align: top;\n",
       "    }\n",
       "\n",
       "    .dataframe thead th {\n",
       "        text-align: right;\n",
       "    }\n",
       "</style>\n",
       "<table border=\"1\" class=\"dataframe\">\n",
       "  <thead>\n",
       "    <tr style=\"text-align: right;\">\n",
       "      <th></th>\n",
       "      <th>age</th>\n",
       "      <th>gender</th>\n",
       "      <th>height</th>\n",
       "      <th>weight</th>\n",
       "      <th>ap_hi</th>\n",
       "      <th>ap_lo</th>\n",
       "      <th>cholesterol</th>\n",
       "      <th>gluc</th>\n",
       "      <th>smoke</th>\n",
       "      <th>alco</th>\n",
       "      <th>cardio</th>\n",
       "      <th>BMI</th>\n",
       "    </tr>\n",
       "  </thead>\n",
       "  <tbody>\n",
       "    <tr>\n",
       "      <th>0</th>\n",
       "      <td>50.0</td>\n",
       "      <td>2</td>\n",
       "      <td>168</td>\n",
       "      <td>62.0</td>\n",
       "      <td>110</td>\n",
       "      <td>80</td>\n",
       "      <td>1</td>\n",
       "      <td>1</td>\n",
       "      <td>0</td>\n",
       "      <td>0</td>\n",
       "      <td>0</td>\n",
       "      <td>21.967120</td>\n",
       "    </tr>\n",
       "    <tr>\n",
       "      <th>1</th>\n",
       "      <td>55.0</td>\n",
       "      <td>1</td>\n",
       "      <td>156</td>\n",
       "      <td>85.0</td>\n",
       "      <td>140</td>\n",
       "      <td>90</td>\n",
       "      <td>3</td>\n",
       "      <td>1</td>\n",
       "      <td>0</td>\n",
       "      <td>0</td>\n",
       "      <td>1</td>\n",
       "      <td>34.927679</td>\n",
       "    </tr>\n",
       "    <tr>\n",
       "      <th>2</th>\n",
       "      <td>52.0</td>\n",
       "      <td>1</td>\n",
       "      <td>165</td>\n",
       "      <td>64.0</td>\n",
       "      <td>130</td>\n",
       "      <td>70</td>\n",
       "      <td>3</td>\n",
       "      <td>1</td>\n",
       "      <td>0</td>\n",
       "      <td>0</td>\n",
       "      <td>1</td>\n",
       "      <td>23.507805</td>\n",
       "    </tr>\n",
       "    <tr>\n",
       "      <th>3</th>\n",
       "      <td>48.0</td>\n",
       "      <td>2</td>\n",
       "      <td>169</td>\n",
       "      <td>82.0</td>\n",
       "      <td>150</td>\n",
       "      <td>100</td>\n",
       "      <td>1</td>\n",
       "      <td>1</td>\n",
       "      <td>0</td>\n",
       "      <td>0</td>\n",
       "      <td>1</td>\n",
       "      <td>28.710479</td>\n",
       "    </tr>\n",
       "    <tr>\n",
       "      <th>4</th>\n",
       "      <td>48.0</td>\n",
       "      <td>1</td>\n",
       "      <td>156</td>\n",
       "      <td>56.0</td>\n",
       "      <td>100</td>\n",
       "      <td>60</td>\n",
       "      <td>1</td>\n",
       "      <td>1</td>\n",
       "      <td>0</td>\n",
       "      <td>0</td>\n",
       "      <td>0</td>\n",
       "      <td>23.011177</td>\n",
       "    </tr>\n",
       "    <tr>\n",
       "      <th>...</th>\n",
       "      <td>...</td>\n",
       "      <td>...</td>\n",
       "      <td>...</td>\n",
       "      <td>...</td>\n",
       "      <td>...</td>\n",
       "      <td>...</td>\n",
       "      <td>...</td>\n",
       "      <td>...</td>\n",
       "      <td>...</td>\n",
       "      <td>...</td>\n",
       "      <td>...</td>\n",
       "      <td>...</td>\n",
       "    </tr>\n",
       "    <tr>\n",
       "      <th>69995</th>\n",
       "      <td>53.0</td>\n",
       "      <td>2</td>\n",
       "      <td>168</td>\n",
       "      <td>76.0</td>\n",
       "      <td>120</td>\n",
       "      <td>80</td>\n",
       "      <td>1</td>\n",
       "      <td>1</td>\n",
       "      <td>1</td>\n",
       "      <td>0</td>\n",
       "      <td>0</td>\n",
       "      <td>26.927438</td>\n",
       "    </tr>\n",
       "    <tr>\n",
       "      <th>69996</th>\n",
       "      <td>62.0</td>\n",
       "      <td>1</td>\n",
       "      <td>158</td>\n",
       "      <td>126.0</td>\n",
       "      <td>140</td>\n",
       "      <td>90</td>\n",
       "      <td>2</td>\n",
       "      <td>2</td>\n",
       "      <td>0</td>\n",
       "      <td>0</td>\n",
       "      <td>1</td>\n",
       "      <td>50.472681</td>\n",
       "    </tr>\n",
       "    <tr>\n",
       "      <th>69997</th>\n",
       "      <td>52.0</td>\n",
       "      <td>2</td>\n",
       "      <td>183</td>\n",
       "      <td>105.0</td>\n",
       "      <td>180</td>\n",
       "      <td>90</td>\n",
       "      <td>3</td>\n",
       "      <td>1</td>\n",
       "      <td>0</td>\n",
       "      <td>1</td>\n",
       "      <td>1</td>\n",
       "      <td>31.353579</td>\n",
       "    </tr>\n",
       "    <tr>\n",
       "      <th>69998</th>\n",
       "      <td>61.0</td>\n",
       "      <td>1</td>\n",
       "      <td>163</td>\n",
       "      <td>72.0</td>\n",
       "      <td>135</td>\n",
       "      <td>80</td>\n",
       "      <td>1</td>\n",
       "      <td>2</td>\n",
       "      <td>0</td>\n",
       "      <td>0</td>\n",
       "      <td>1</td>\n",
       "      <td>27.099251</td>\n",
       "    </tr>\n",
       "    <tr>\n",
       "      <th>69999</th>\n",
       "      <td>56.0</td>\n",
       "      <td>1</td>\n",
       "      <td>170</td>\n",
       "      <td>72.0</td>\n",
       "      <td>120</td>\n",
       "      <td>80</td>\n",
       "      <td>2</td>\n",
       "      <td>1</td>\n",
       "      <td>0</td>\n",
       "      <td>0</td>\n",
       "      <td>0</td>\n",
       "      <td>24.913495</td>\n",
       "    </tr>\n",
       "  </tbody>\n",
       "</table>\n",
       "<p>70000 rows × 12 columns</p>\n",
       "</div>"
      ],
      "text/plain": [
       "        age  gender  height  weight  ap_hi  ap_lo  cholesterol  gluc  smoke  \\\n",
       "0      50.0       2     168    62.0    110     80            1     1      0   \n",
       "1      55.0       1     156    85.0    140     90            3     1      0   \n",
       "2      52.0       1     165    64.0    130     70            3     1      0   \n",
       "3      48.0       2     169    82.0    150    100            1     1      0   \n",
       "4      48.0       1     156    56.0    100     60            1     1      0   \n",
       "...     ...     ...     ...     ...    ...    ...          ...   ...    ...   \n",
       "69995  53.0       2     168    76.0    120     80            1     1      1   \n",
       "69996  62.0       1     158   126.0    140     90            2     2      0   \n",
       "69997  52.0       2     183   105.0    180     90            3     1      0   \n",
       "69998  61.0       1     163    72.0    135     80            1     2      0   \n",
       "69999  56.0       1     170    72.0    120     80            2     1      0   \n",
       "\n",
       "       alco  cardio        BMI  \n",
       "0         0       0  21.967120  \n",
       "1         0       1  34.927679  \n",
       "2         0       1  23.507805  \n",
       "3         0       1  28.710479  \n",
       "4         0       0  23.011177  \n",
       "...     ...     ...        ...  \n",
       "69995     0       0  26.927438  \n",
       "69996     0       1  50.472681  \n",
       "69997     1       1  31.353579  \n",
       "69998     0       1  27.099251  \n",
       "69999     0       0  24.913495  \n",
       "\n",
       "[70000 rows x 12 columns]"
      ]
     },
     "execution_count": 8,
     "metadata": {},
     "output_type": "execute_result"
    }
   ],
   "source": [
    "data['BMI']=data['weight']/((data.height/100)**2)\n",
    "data"
   ]
  },
  {
   "cell_type": "code",
   "execution_count": 9,
   "id": "f730a634",
   "metadata": {
    "execution": {
     "iopub.execute_input": "2022-06-07T14:42:20.338766Z",
     "iopub.status.busy": "2022-06-07T14:42:20.338167Z",
     "iopub.status.idle": "2022-06-07T14:42:21.173522Z",
     "shell.execute_reply": "2022-06-07T14:42:21.172852Z"
    },
    "papermill": {
     "duration": 0.851883,
     "end_time": "2022-06-07T14:42:21.175407",
     "exception": false,
     "start_time": "2022-06-07T14:42:20.323524",
     "status": "completed"
    },
    "tags": []
   },
   "outputs": [
    {
     "data": {
      "text/plain": [
       "<AxesSubplot:>"
      ]
     },
     "execution_count": 9,
     "metadata": {},
     "output_type": "execute_result"
    },
    {
     "data": {
      "image/png": "[encoded data removed]",
      "text/plain": [
       "<Figure size 864x648 with 2 Axes>"
      ]
     },
     "metadata": {
      "needs_background": "light"
     },
     "output_type": "display_data"
    }
   ],
   "source": [
    "cm=data.corr()\n",
    "plt.figure(figsize=(12,9))\n",
    "sns.heatmap(cm,annot=True,linewidths=2)"
   ]
  },
  {
   "cell_type": "code",
   "execution_count": 10,
   "id": "b016dc86",
   "metadata": {
    "execution": {
     "iopub.execute_input": "2022-06-07T14:42:21.207095Z",
     "iopub.status.busy": "2022-06-07T14:42:21.206565Z",
     "iopub.status.idle": "2022-06-07T14:42:21.274361Z",
     "shell.execute_reply": "2022-06-07T14:42:21.273693Z"
    },
    "papermill": {
     "duration": 0.085765,
     "end_time": "2022-06-07T14:42:21.276238",
     "exception": false,
     "start_time": "2022-06-07T14:42:21.190473",
     "status": "completed"
    },
    "tags": []
   },
   "outputs": [
    {
     "data": {
      "text/html": [
       "<div>\n",
       "<style scoped>\n",
       "    .dataframe tbody tr th:only-of-type {\n",
       "        vertical-align: middle;\n",
       "    }\n",
       "\n",
       "    .dataframe tbody tr th {\n",
       "        vertical-align: top;\n",
       "    }\n",
       "\n",
       "    .dataframe thead th {\n",
       "        text-align: right;\n",
       "    }\n",
       "</style>\n",
       "<table border=\"1\" class=\"dataframe\">\n",
       "  <thead>\n",
       "    <tr style=\"text-align: right;\">\n",
       "      <th></th>\n",
       "      <th>age</th>\n",
       "      <th>gender</th>\n",
       "      <th>height</th>\n",
       "      <th>weight</th>\n",
       "      <th>ap_hi</th>\n",
       "      <th>ap_lo</th>\n",
       "      <th>cholesterol</th>\n",
       "      <th>gluc</th>\n",
       "      <th>smoke</th>\n",
       "      <th>alco</th>\n",
       "      <th>cardio</th>\n",
       "      <th>BMI</th>\n",
       "    </tr>\n",
       "  </thead>\n",
       "  <tbody>\n",
       "    <tr>\n",
       "      <th>count</th>\n",
       "      <td>70000.000000</td>\n",
       "      <td>70000.000000</td>\n",
       "      <td>70000.000000</td>\n",
       "      <td>70000.000000</td>\n",
       "      <td>70000.000000</td>\n",
       "      <td>70000.000000</td>\n",
       "      <td>70000.000000</td>\n",
       "      <td>70000.000000</td>\n",
       "      <td>70000.000000</td>\n",
       "      <td>70000.000000</td>\n",
       "      <td>70000.000000</td>\n",
       "      <td>70000.000000</td>\n",
       "    </tr>\n",
       "    <tr>\n",
       "      <th>mean</th>\n",
       "      <td>53.338686</td>\n",
       "      <td>1.349571</td>\n",
       "      <td>164.359229</td>\n",
       "      <td>74.205690</td>\n",
       "      <td>128.817286</td>\n",
       "      <td>96.630414</td>\n",
       "      <td>1.366871</td>\n",
       "      <td>1.226457</td>\n",
       "      <td>0.088129</td>\n",
       "      <td>0.053771</td>\n",
       "      <td>0.499700</td>\n",
       "      <td>27.556513</td>\n",
       "    </tr>\n",
       "    <tr>\n",
       "      <th>std</th>\n",
       "      <td>6.765294</td>\n",
       "      <td>0.476838</td>\n",
       "      <td>8.210126</td>\n",
       "      <td>14.395757</td>\n",
       "      <td>154.011419</td>\n",
       "      <td>188.472530</td>\n",
       "      <td>0.680250</td>\n",
       "      <td>0.572270</td>\n",
       "      <td>0.283484</td>\n",
       "      <td>0.225568</td>\n",
       "      <td>0.500003</td>\n",
       "      <td>6.091511</td>\n",
       "    </tr>\n",
       "    <tr>\n",
       "      <th>min</th>\n",
       "      <td>30.000000</td>\n",
       "      <td>1.000000</td>\n",
       "      <td>55.000000</td>\n",
       "      <td>10.000000</td>\n",
       "      <td>-150.000000</td>\n",
       "      <td>-70.000000</td>\n",
       "      <td>1.000000</td>\n",
       "      <td>1.000000</td>\n",
       "      <td>0.000000</td>\n",
       "      <td>0.000000</td>\n",
       "      <td>0.000000</td>\n",
       "      <td>3.471784</td>\n",
       "    </tr>\n",
       "    <tr>\n",
       "      <th>25%</th>\n",
       "      <td>48.000000</td>\n",
       "      <td>1.000000</td>\n",
       "      <td>159.000000</td>\n",
       "      <td>65.000000</td>\n",
       "      <td>120.000000</td>\n",
       "      <td>80.000000</td>\n",
       "      <td>1.000000</td>\n",
       "      <td>1.000000</td>\n",
       "      <td>0.000000</td>\n",
       "      <td>0.000000</td>\n",
       "      <td>0.000000</td>\n",
       "      <td>23.875115</td>\n",
       "    </tr>\n",
       "    <tr>\n",
       "      <th>50%</th>\n",
       "      <td>54.000000</td>\n",
       "      <td>1.000000</td>\n",
       "      <td>165.000000</td>\n",
       "      <td>72.000000</td>\n",
       "      <td>120.000000</td>\n",
       "      <td>80.000000</td>\n",
       "      <td>1.000000</td>\n",
       "      <td>1.000000</td>\n",
       "      <td>0.000000</td>\n",
       "      <td>0.000000</td>\n",
       "      <td>0.000000</td>\n",
       "      <td>26.374068</td>\n",
       "    </tr>\n",
       "    <tr>\n",
       "      <th>75%</th>\n",
       "      <td>58.000000</td>\n",
       "      <td>2.000000</td>\n",
       "      <td>170.000000</td>\n",
       "      <td>82.000000</td>\n",
       "      <td>140.000000</td>\n",
       "      <td>90.000000</td>\n",
       "      <td>2.000000</td>\n",
       "      <td>1.000000</td>\n",
       "      <td>0.000000</td>\n",
       "      <td>0.000000</td>\n",
       "      <td>1.000000</td>\n",
       "      <td>30.222222</td>\n",
       "    </tr>\n",
       "    <tr>\n",
       "      <th>max</th>\n",
       "      <td>65.000000</td>\n",
       "      <td>2.000000</td>\n",
       "      <td>250.000000</td>\n",
       "      <td>200.000000</td>\n",
       "      <td>16020.000000</td>\n",
       "      <td>11000.000000</td>\n",
       "      <td>3.000000</td>\n",
       "      <td>3.000000</td>\n",
       "      <td>1.000000</td>\n",
       "      <td>1.000000</td>\n",
       "      <td>1.000000</td>\n",
       "      <td>298.666667</td>\n",
       "    </tr>\n",
       "  </tbody>\n",
       "</table>\n",
       "</div>"
      ],
      "text/plain": [
       "                age        gender        height        weight         ap_hi  \\\n",
       "count  70000.000000  70000.000000  70000.000000  70000.000000  70000.000000   \n",
       "mean      53.338686      1.349571    164.359229     74.205690    128.817286   \n",
       "std        6.765294      0.476838      8.210126     14.395757    154.011419   \n",
       "min       30.000000      1.000000     55.000000     10.000000   -150.000000   \n",
       "25%       48.000000      1.000000    159.000000     65.000000    120.000000   \n",
       "50%       54.000000      1.000000    165.000000     72.000000    120.000000   \n",
       "75%       58.000000      2.000000    170.000000     82.000000    140.000000   \n",
       "max       65.000000      2.000000    250.000000    200.000000  16020.000000   \n",
       "\n",
       "              ap_lo   cholesterol          gluc         smoke          alco  \\\n",
       "count  70000.000000  70000.000000  70000.000000  70000.000000  70000.000000   \n",
       "mean      96.630414      1.366871      1.226457      0.088129      0.053771   \n",
       "std      188.472530      0.680250      0.572270      0.283484      0.225568   \n",
       "min      -70.000000      1.000000      1.000000      0.000000      0.000000   \n",
       "25%       80.000000      1.000000      1.000000      0.000000      0.000000   \n",
       "50%       80.000000      1.000000      1.000000      0.000000      0.000000   \n",
       "75%       90.000000      2.000000      1.000000      0.000000      0.000000   \n",
       "max    11000.000000      3.000000      3.000000      1.000000      1.000000   \n",
       "\n",
       "             cardio           BMI  \n",
       "count  70000.000000  70000.000000  \n",
       "mean       0.499700     27.556513  \n",
       "std        0.500003      6.091511  \n",
       "min        0.000000      3.471784  \n",
       "25%        0.000000     23.875115  \n",
       "50%        0.000000     26.374068  \n",
       "75%        1.000000     30.222222  \n",
       "max        1.000000    298.666667  "
      ]
     },
     "execution_count": 10,
     "metadata": {},
     "output_type": "execute_result"
    }
   ],
   "source": [
    "data.describe()"
   ]
  },
  {
   "cell_type": "code",
   "execution_count": 11,
   "id": "ac5e1b50",
   "metadata": {
    "execution": {
     "iopub.execute_input": "2022-06-07T14:42:21.308693Z",
     "iopub.status.busy": "2022-06-07T14:42:21.308172Z",
     "iopub.status.idle": "2022-06-07T14:42:21.311301Z",
     "shell.execute_reply": "2022-06-07T14:42:21.310641Z"
    },
    "papermill": {
     "duration": 0.021316,
     "end_time": "2022-06-07T14:42:21.313072",
     "exception": false,
     "start_time": "2022-06-07T14:42:21.291756",
     "status": "completed"
    },
    "tags": []
   },
   "outputs": [],
   "source": [
    "# there are some unrealastic values from ap_lo and ap_hi\n",
    "# neglecting those values"
   ]
  },
  {
   "cell_type": "code",
   "execution_count": 12,
   "id": "12316c86",
   "metadata": {
    "execution": {
     "iopub.execute_input": "2022-06-07T14:42:21.345725Z",
     "iopub.status.busy": "2022-06-07T14:42:21.345193Z",
     "iopub.status.idle": "2022-06-07T14:42:21.366396Z",
     "shell.execute_reply": "2022-06-07T14:42:21.365685Z"
    },
    "papermill": {
     "duration": 0.040083,
     "end_time": "2022-06-07T14:42:21.368481",
     "exception": false,
     "start_time": "2022-06-07T14:42:21.328398",
     "status": "completed"
    },
    "tags": []
   },
   "outputs": [],
   "source": [
    "data=data[data['ap_lo']>0]\n",
    "data=data[data['ap_hi']<250]\n",
    "data=data[data['ap_hi']>60]\n",
    "data=data[data['ap_lo']<150]\n",
    "data=data[data['ap_lo']>50]"
   ]
  },
  {
   "cell_type": "markdown",
   "id": "9ac6a7ff",
   "metadata": {
    "papermill": {
     "duration": 0.014942,
     "end_time": "2022-06-07T14:42:21.398800",
     "exception": false,
     "start_time": "2022-06-07T14:42:21.383858",
     "status": "completed"
    },
    "tags": []
   },
   "source": [
    "## Univariate analyasis"
   ]
  },
  {
   "cell_type": "code",
   "execution_count": 13,
   "id": "d72de3a8",
   "metadata": {
    "execution": {
     "iopub.execute_input": "2022-06-07T14:42:21.430763Z",
     "iopub.status.busy": "2022-06-07T14:42:21.430334Z",
     "iopub.status.idle": "2022-06-07T14:42:21.541970Z",
     "shell.execute_reply": "2022-06-07T14:42:21.541262Z"
    },
    "papermill": {
     "duration": 0.129933,
     "end_time": "2022-06-07T14:42:21.543872",
     "exception": false,
     "start_time": "2022-06-07T14:42:21.413939",
     "status": "completed"
    },
    "tags": []
   },
   "outputs": [
    {
     "data": {
      "text/plain": [
       "<AxesSubplot:xlabel='cardio', ylabel='count'>"
      ]
     },
     "execution_count": 13,
     "metadata": {},
     "output_type": "execute_result"
    },
    {
     "data": {
      "image/png": "[encoded data removed]",
      "text/plain": [
       "<Figure size 432x288 with 1 Axes>"
      ]
     },
     "metadata": {
      "needs_background": "light"
     },
     "output_type": "display_data"
    }
   ],
   "source": [
    "sns.countplot(data.cardio)"
   ]
  },
  {
   "cell_type": "code",
   "execution_count": 14,
   "id": "be09f6df",
   "metadata": {
    "execution": {
     "iopub.execute_input": "2022-06-07T14:42:21.577675Z",
     "iopub.status.busy": "2022-06-07T14:42:21.577244Z",
     "iopub.status.idle": "2022-06-07T14:42:21.721206Z",
     "shell.execute_reply": "2022-06-07T14:42:21.720486Z"
    },
    "papermill": {
     "duration": 0.162916,
     "end_time": "2022-06-07T14:42:21.723120",
     "exception": false,
     "start_time": "2022-06-07T14:42:21.560204",
     "status": "completed"
    },
    "tags": []
   },
   "outputs": [
    {
     "data": {
      "text/plain": [
       "<AxesSubplot:xlabel='cholesterol', ylabel='count'>"
      ]
     },
     "execution_count": 14,
     "metadata": {},
     "output_type": "execute_result"
    },
    {
     "data": {
      "image/png": "[encoded data removed]",
      "text/plain": [
       "<Figure size 432x288 with 1 Axes>"
      ]
     },
     "metadata": {
      "needs_background": "light"
     },
     "output_type": "display_data"
    }
   ],
   "source": [
    "sns.countplot(data.cholesterol,hue=data.cardio)"
   ]
  },
  {
   "cell_type": "code",
   "execution_count": 15,
   "id": "1baeeb24",
   "metadata": {
    "execution": {
     "iopub.execute_input": "2022-06-07T14:42:21.756160Z",
     "iopub.status.busy": "2022-06-07T14:42:21.755771Z",
     "iopub.status.idle": "2022-06-07T14:42:21.943191Z",
     "shell.execute_reply": "2022-06-07T14:42:21.942394Z"
    },
    "papermill": {
     "duration": 0.206304,
     "end_time": "2022-06-07T14:42:21.945246",
     "exception": false,
     "start_time": "2022-06-07T14:42:21.738942",
     "status": "completed"
    },
    "tags": []
   },
   "outputs": [
    {
     "data": {
      "text/plain": [
       "<AxesSubplot:xlabel='smoke', ylabel='count'>"
      ]
     },
     "execution_count": 15,
     "metadata": {},
     "output_type": "execute_result"
    },
    {
     "data": {
      "image/png": "[encoded data removed]",
      "text/plain": [
       "<Figure size 432x288 with 1 Axes>"
      ]
     },
     "metadata": {
      "needs_background": "light"
     },
     "output_type": "display_data"
    }
   ],
   "source": [
    "sns.countplot(data.smoke,hue=data.cardio)"
   ]
  },
  {
   "cell_type": "code",
   "execution_count": 16,
   "id": "98069fde",
   "metadata": {
    "execution": {
     "iopub.execute_input": "2022-06-07T14:42:21.980403Z",
     "iopub.status.busy": "2022-06-07T14:42:21.979585Z",
     "iopub.status.idle": "2022-06-07T14:42:22.167442Z",
     "shell.execute_reply": "2022-06-07T14:42:22.166413Z"
    },
    "papermill": {
     "duration": 0.207899,
     "end_time": "2022-06-07T14:42:22.169793",
     "exception": false,
     "start_time": "2022-06-07T14:42:21.961894",
     "status": "completed"
    },
    "tags": []
   },
   "outputs": [
    {
     "data": {
      "text/plain": [
       "<AxesSubplot:xlabel='alco', ylabel='count'>"
      ]
     },
     "execution_count": 16,
     "metadata": {},
     "output_type": "execute_result"
    },
    {
     "data": {
      "image/png": "[encoded data removed]",
      "text/plain": [
       "<Figure size 432x288 with 1 Axes>"
      ]
     },
     "metadata": {
      "needs_background": "light"
     },
     "output_type": "display_data"
    }
   ],
   "source": [
    "sns.countplot(data.alco,hue=data.cardio)"
   ]
  },
  {
   "cell_type": "code",
   "execution_count": 17,
   "id": "68b7185e",
   "metadata": {
    "execution": {
     "iopub.execute_input": "2022-06-07T14:42:22.205379Z",
     "iopub.status.busy": "2022-06-07T14:42:22.204552Z",
     "iopub.status.idle": "2022-06-07T14:42:22.399567Z",
     "shell.execute_reply": "2022-06-07T14:42:22.398590Z"
    },
    "papermill": {
     "duration": 0.214604,
     "end_time": "2022-06-07T14:42:22.401473",
     "exception": false,
     "start_time": "2022-06-07T14:42:22.186869",
     "status": "completed"
    },
    "tags": []
   },
   "outputs": [
    {
     "data": {
      "text/plain": [
       "<AxesSubplot:xlabel='cholesterol', ylabel='count'>"
      ]
     },
     "execution_count": 17,
     "metadata": {},
     "output_type": "execute_result"
    },
    {
     "data": {
      "image/png": "[encoded data removed]",
      "text/plain": [
       "<Figure size 432x288 with 1 Axes>"
      ]
     },
     "metadata": {
      "needs_background": "light"
     },
     "output_type": "display_data"
    }
   ],
   "source": [
    "sns.countplot(data.cholesterol,hue=data.gender)"
   ]
  },
  {
   "cell_type": "code",
   "execution_count": 18,
   "id": "5b191aac",
   "metadata": {
    "execution": {
     "iopub.execute_input": "2022-06-07T14:42:22.437235Z",
     "iopub.status.busy": "2022-06-07T14:42:22.436306Z",
     "iopub.status.idle": "2022-06-07T14:42:23.538841Z",
     "shell.execute_reply": "2022-06-07T14:42:23.538051Z"
    },
    "papermill": {
     "duration": 1.122687,
     "end_time": "2022-06-07T14:42:23.540940",
     "exception": false,
     "start_time": "2022-06-07T14:42:22.418253",
     "status": "completed"
    },
    "tags": []
   },
   "outputs": [
    {
     "data": {
      "text/plain": [
       "<AxesSubplot:xlabel='cholesterol', ylabel='cardio'>"
      ]
     },
     "execution_count": 18,
     "metadata": {},
     "output_type": "execute_result"
    },
    {
     "data": {
      "image/png": "[encoded data removed]",
      "text/plain": [
       "<Figure size 432x288 with 1 Axes>"
      ]
     },
     "metadata": {
      "needs_background": "light"
     },
     "output_type": "display_data"
    }
   ],
   "source": [
    "sns.barplot(data.cholesterol,data.cardio,hue=data.gender)"
   ]
  },
  {
   "cell_type": "code",
   "execution_count": 19,
   "id": "cf6678b8",
   "metadata": {
    "execution": {
     "iopub.execute_input": "2022-06-07T14:42:23.576509Z",
     "iopub.status.busy": "2022-06-07T14:42:23.576138Z",
     "iopub.status.idle": "2022-06-07T14:42:23.756256Z",
     "shell.execute_reply": "2022-06-07T14:42:23.755201Z"
    },
    "papermill": {
     "duration": 0.200464,
     "end_time": "2022-06-07T14:42:23.758418",
     "exception": false,
     "start_time": "2022-06-07T14:42:23.557954",
     "status": "completed"
    },
    "tags": []
   },
   "outputs": [
    {
     "data": {
      "text/plain": [
       "<AxesSubplot:xlabel='BMI', ylabel='count'>"
      ]
     },
     "execution_count": 19,
     "metadata": {},
     "output_type": "execute_result"
    },
    {
     "data": {
      "image/png": "[encoded data removed]",
      "text/plain": [
       "<Figure size 432x288 with 1 Axes>"
      ]
     },
     "metadata": {
      "needs_background": "light"
     },
     "output_type": "display_data"
    }
   ],
   "source": [
    "sns.countplot(data.BMI<25,hue=data.cardio)"
   ]
  },
  {
   "cell_type": "code",
   "execution_count": 20,
   "id": "fe8d2af0",
   "metadata": {
    "execution": {
     "iopub.execute_input": "2022-06-07T14:42:23.796873Z",
     "iopub.status.busy": "2022-06-07T14:42:23.796332Z",
     "iopub.status.idle": "2022-06-07T14:42:32.182500Z",
     "shell.execute_reply": "2022-06-07T14:42:32.181563Z"
    },
    "papermill": {
     "duration": 8.408582,
     "end_time": "2022-06-07T14:42:32.184534",
     "exception": false,
     "start_time": "2022-06-07T14:42:23.775952",
     "status": "completed"
    },
    "tags": []
   },
   "outputs": [
    {
     "data": {
      "text/plain": [
       "<AxesSubplot:xlabel='ap_hi', ylabel='ap_lo'>"
      ]
     },
     "execution_count": 20,
     "metadata": {},
     "output_type": "execute_result"
    },
    {
     "data": {
      "image/png": "[encoded data removed]",
      "text/plain": [
       "<Figure size 432x288 with 1 Axes>"
      ]
     },
     "metadata": {
      "needs_background": "light"
     },
     "output_type": "display_data"
    }
   ],
   "source": [
    "sns.regplot(data.ap_hi,data.ap_lo)"
   ]
  },
  {
   "cell_type": "code",
   "execution_count": 21,
   "id": "f52788dc",
   "metadata": {
    "execution": {
     "iopub.execute_input": "2022-06-07T14:42:32.222103Z",
     "iopub.status.busy": "2022-06-07T14:42:32.221388Z",
     "iopub.status.idle": "2022-06-07T14:42:32.535610Z",
     "shell.execute_reply": "2022-06-07T14:42:32.534686Z"
    },
    "papermill": {
     "duration": 0.335309,
     "end_time": "2022-06-07T14:42:32.537494",
     "exception": false,
     "start_time": "2022-06-07T14:42:32.202185",
     "status": "completed"
    },
    "tags": []
   },
   "outputs": [
    {
     "data": {
      "text/plain": [
       "<AxesSubplot:xlabel='ap_hi', ylabel='age'>"
      ]
     },
     "execution_count": 21,
     "metadata": {},
     "output_type": "execute_result"
    },
    {
     "data": {
      "image/png": "[encoded data removed]",
      "text/plain": [
       "<Figure size 432x288 with 1 Axes>"
      ]
     },
     "metadata": {
      "needs_background": "light"
     },
     "output_type": "display_data"
    }
   ],
   "source": [
    "sns.scatterplot(data.ap_hi,data.age)"
   ]
  },
  {
   "cell_type": "code",
   "execution_count": 22,
   "id": "c5f1f2d6",
   "metadata": {
    "execution": {
     "iopub.execute_input": "2022-06-07T14:42:32.576175Z",
     "iopub.status.busy": "2022-06-07T14:42:32.575766Z",
     "iopub.status.idle": "2022-06-07T14:42:32.820566Z",
     "shell.execute_reply": "2022-06-07T14:42:32.819697Z"
    },
    "papermill": {
     "duration": 0.266707,
     "end_time": "2022-06-07T14:42:32.822652",
     "exception": false,
     "start_time": "2022-06-07T14:42:32.555945",
     "status": "completed"
    },
    "tags": []
   },
   "outputs": [
    {
     "data": {
      "text/plain": [
       "<matplotlib.collections.PathCollection at 0x7fcc9b314b10>"
      ]
     },
     "execution_count": 22,
     "metadata": {},
     "output_type": "execute_result"
    },
    {
     "data": {
      "image/png": "[encoded data removed]",
      "text/plain": [
       "<Figure size 432x288 with 1 Axes>"
      ]
     },
     "metadata": {
      "needs_background": "light"
     },
     "output_type": "display_data"
    }
   ],
   "source": [
    "plt.scatter(data.ap_hi,data.ap_lo)"
   ]
  },
  {
   "cell_type": "code",
   "execution_count": 23,
   "id": "f168ee5a",
   "metadata": {
    "execution": {
     "iopub.execute_input": "2022-06-07T14:42:32.862729Z",
     "iopub.status.busy": "2022-06-07T14:42:32.861952Z",
     "iopub.status.idle": "2022-06-07T14:42:33.704214Z",
     "shell.execute_reply": "2022-06-07T14:42:33.703597Z"
    },
    "papermill": {
     "duration": 0.864503,
     "end_time": "2022-06-07T14:42:33.706147",
     "exception": false,
     "start_time": "2022-06-07T14:42:32.841644",
     "status": "completed"
    },
    "tags": []
   },
   "outputs": [
    {
     "data": {
      "image/png": "[encoded data removed]",
      "text/plain": [
       "<Figure size 1080x720 with 6 Axes>"
      ]
     },
     "metadata": {
      "needs_background": "light"
     },
     "output_type": "display_data"
    }
   ],
   "source": [
    "col=data.columns\n",
    "plt.figure(figsize=(15,10))\n",
    "for i in range(len(col)-6):\n",
    "    plt.subplot(2,3,i+1)\n",
    "    plt.hist(data[col[i]])\n",
    "    plt.xlabel(col[i])\n",
    "    "
   ]
  },
  {
   "cell_type": "code",
   "execution_count": 24,
   "id": "308b0444",
   "metadata": {
    "execution": {
     "iopub.execute_input": "2022-06-07T14:42:33.747272Z",
     "iopub.status.busy": "2022-06-07T14:42:33.746256Z",
     "iopub.status.idle": "2022-06-07T14:42:34.341245Z",
     "shell.execute_reply": "2022-06-07T14:42:34.340254Z"
    },
    "papermill": {
     "duration": 0.618351,
     "end_time": "2022-06-07T14:42:34.343865",
     "exception": false,
     "start_time": "2022-06-07T14:42:33.725514",
     "status": "completed"
    },
    "scrolled": true,
    "tags": []
   },
   "outputs": [
    {
     "data": {
      "image/png": "[encoded data removed]",
      "text/plain": [
       "<Figure size 1080x720 with 6 Axes>"
      ]
     },
     "metadata": {
      "needs_background": "light"
     },
     "output_type": "display_data"
    }
   ],
   "source": [
    "col=data.columns\n",
    "plt.figure(figsize=(15,10))\n",
    "for i in range(len(col)-6):\n",
    "    plt.subplot(2,3,i+1)\n",
    "    plt.boxplot(data[col[i]])\n",
    "    plt.xlabel(col[i])"
   ]
  },
  {
   "cell_type": "markdown",
   "id": "a4c2b079",
   "metadata": {
    "papermill": {
     "duration": 0.020391,
     "end_time": "2022-06-07T14:42:34.388460",
     "exception": false,
     "start_time": "2022-06-07T14:42:34.368069",
     "status": "completed"
    },
    "tags": []
   },
   "source": [
    "## Result of Univariate Analysis\n",
    "* By observing the histogram and box plot there are more no of outliers are present in Height, Weight, ap_hi, ap_lo.\n",
    "* To deal with this here i am using 2nd and 3rd standard deviation"
   ]
  },
  {
   "cell_type": "code",
   "execution_count": 25,
   "id": "a9585539",
   "metadata": {
    "execution": {
     "iopub.execute_input": "2022-06-07T14:42:34.430453Z",
     "iopub.status.busy": "2022-06-07T14:42:34.429307Z",
     "iopub.status.idle": "2022-06-07T14:42:34.449327Z",
     "shell.execute_reply": "2022-06-07T14:42:34.448075Z"
    },
    "papermill": {
     "duration": 0.043867,
     "end_time": "2022-06-07T14:42:34.452148",
     "exception": false,
     "start_time": "2022-06-07T14:42:34.408281",
     "status": "completed"
    },
    "tags": []
   },
   "outputs": [
    {
     "name": "stdout",
     "output_type": "stream",
     "text": [
      "102.78225468596331\n"
     ]
    },
    {
     "data": {
      "text/plain": [
       "45.47930259440248"
      ]
     },
     "execution_count": 25,
     "metadata": {},
     "output_type": "execute_result"
    }
   ],
   "source": [
    "upper_limit= data.weight.mean() + 2*data.weight.std()\n",
    "print(upper_limit)\n",
    "lower_limit= data.weight.mean() - 2*data.weight.std()\n",
    "lower_limit"
   ]
  },
  {
   "cell_type": "code",
   "execution_count": 26,
   "id": "e1be8959",
   "metadata": {
    "execution": {
     "iopub.execute_input": "2022-06-07T14:42:34.503930Z",
     "iopub.status.busy": "2022-06-07T14:42:34.503103Z",
     "iopub.status.idle": "2022-06-07T14:42:34.514073Z",
     "shell.execute_reply": "2022-06-07T14:42:34.513162Z"
    },
    "papermill": {
     "duration": 0.034874,
     "end_time": "2022-06-07T14:42:34.516116",
     "exception": false,
     "start_time": "2022-06-07T14:42:34.481242",
     "status": "completed"
    },
    "tags": []
   },
   "outputs": [],
   "source": [
    "data=data[data['weight']<upper_limit] "
   ]
  },
  {
   "cell_type": "code",
   "execution_count": 27,
   "id": "69d74792",
   "metadata": {
    "execution": {
     "iopub.execute_input": "2022-06-07T14:42:34.559008Z",
     "iopub.status.busy": "2022-06-07T14:42:34.558204Z",
     "iopub.status.idle": "2022-06-07T14:42:34.569756Z",
     "shell.execute_reply": "2022-06-07T14:42:34.568780Z"
    },
    "papermill": {
     "duration": 0.03622,
     "end_time": "2022-06-07T14:42:34.572719",
     "exception": false,
     "start_time": "2022-06-07T14:42:34.536499",
     "status": "completed"
    },
    "tags": []
   },
   "outputs": [],
   "source": [
    "data=data[data['weight']>lower_limit]"
   ]
  },
  {
   "cell_type": "code",
   "execution_count": 28,
   "id": "b412f7cc",
   "metadata": {
    "execution": {
     "iopub.execute_input": "2022-06-07T14:42:34.626067Z",
     "iopub.status.busy": "2022-06-07T14:42:34.625566Z",
     "iopub.status.idle": "2022-06-07T14:42:34.690398Z",
     "shell.execute_reply": "2022-06-07T14:42:34.689429Z"
    },
    "papermill": {
     "duration": 0.088848,
     "end_time": "2022-06-07T14:42:34.692300",
     "exception": false,
     "start_time": "2022-06-07T14:42:34.603452",
     "status": "completed"
    },
    "tags": []
   },
   "outputs": [
    {
     "data": {
      "text/html": [
       "<div>\n",
       "<style scoped>\n",
       "    .dataframe tbody tr th:only-of-type {\n",
       "        vertical-align: middle;\n",
       "    }\n",
       "\n",
       "    .dataframe tbody tr th {\n",
       "        vertical-align: top;\n",
       "    }\n",
       "\n",
       "    .dataframe thead th {\n",
       "        text-align: right;\n",
       "    }\n",
       "</style>\n",
       "<table border=\"1\" class=\"dataframe\">\n",
       "  <thead>\n",
       "    <tr style=\"text-align: right;\">\n",
       "      <th></th>\n",
       "      <th>age</th>\n",
       "      <th>gender</th>\n",
       "      <th>height</th>\n",
       "      <th>weight</th>\n",
       "      <th>ap_hi</th>\n",
       "      <th>ap_lo</th>\n",
       "      <th>cholesterol</th>\n",
       "      <th>gluc</th>\n",
       "      <th>smoke</th>\n",
       "      <th>alco</th>\n",
       "      <th>cardio</th>\n",
       "      <th>BMI</th>\n",
       "    </tr>\n",
       "  </thead>\n",
       "  <tbody>\n",
       "    <tr>\n",
       "      <th>count</th>\n",
       "      <td>65550.000000</td>\n",
       "      <td>65550.000000</td>\n",
       "      <td>65550.000000</td>\n",
       "      <td>65550.000000</td>\n",
       "      <td>65550.000000</td>\n",
       "      <td>65550.000000</td>\n",
       "      <td>65550.000000</td>\n",
       "      <td>65550.000000</td>\n",
       "      <td>65550.000000</td>\n",
       "      <td>65550.000000</td>\n",
       "      <td>65550.000000</td>\n",
       "      <td>65550.000000</td>\n",
       "    </tr>\n",
       "    <tr>\n",
       "      <th>mean</th>\n",
       "      <td>53.329397</td>\n",
       "      <td>1.346285</td>\n",
       "      <td>164.272906</td>\n",
       "      <td>72.705122</td>\n",
       "      <td>126.259908</td>\n",
       "      <td>81.206911</td>\n",
       "      <td>1.354249</td>\n",
       "      <td>1.218566</td>\n",
       "      <td>0.086743</td>\n",
       "      <td>0.052220</td>\n",
       "      <td>0.488299</td>\n",
       "      <td>27.039223</td>\n",
       "    </tr>\n",
       "    <tr>\n",
       "      <th>std</th>\n",
       "      <td>6.762154</td>\n",
       "      <td>0.475789</td>\n",
       "      <td>8.023614</td>\n",
       "      <td>11.684446</td>\n",
       "      <td>16.429007</td>\n",
       "      <td>9.357428</td>\n",
       "      <td>0.671184</td>\n",
       "      <td>0.564659</td>\n",
       "      <td>0.281460</td>\n",
       "      <td>0.222471</td>\n",
       "      <td>0.499867</td>\n",
       "      <td>5.047929</td>\n",
       "    </tr>\n",
       "    <tr>\n",
       "      <th>min</th>\n",
       "      <td>30.000000</td>\n",
       "      <td>1.000000</td>\n",
       "      <td>55.000000</td>\n",
       "      <td>46.000000</td>\n",
       "      <td>70.000000</td>\n",
       "      <td>52.000000</td>\n",
       "      <td>1.000000</td>\n",
       "      <td>1.000000</td>\n",
       "      <td>0.000000</td>\n",
       "      <td>0.000000</td>\n",
       "      <td>0.000000</td>\n",
       "      <td>13.760000</td>\n",
       "    </tr>\n",
       "    <tr>\n",
       "      <th>25%</th>\n",
       "      <td>48.000000</td>\n",
       "      <td>1.000000</td>\n",
       "      <td>159.000000</td>\n",
       "      <td>65.000000</td>\n",
       "      <td>120.000000</td>\n",
       "      <td>80.000000</td>\n",
       "      <td>1.000000</td>\n",
       "      <td>1.000000</td>\n",
       "      <td>0.000000</td>\n",
       "      <td>0.000000</td>\n",
       "      <td>0.000000</td>\n",
       "      <td>23.833005</td>\n",
       "    </tr>\n",
       "    <tr>\n",
       "      <th>50%</th>\n",
       "      <td>54.000000</td>\n",
       "      <td>1.000000</td>\n",
       "      <td>165.000000</td>\n",
       "      <td>71.000000</td>\n",
       "      <td>120.000000</td>\n",
       "      <td>80.000000</td>\n",
       "      <td>1.000000</td>\n",
       "      <td>1.000000</td>\n",
       "      <td>0.000000</td>\n",
       "      <td>0.000000</td>\n",
       "      <td>0.000000</td>\n",
       "      <td>26.142688</td>\n",
       "    </tr>\n",
       "    <tr>\n",
       "      <th>75%</th>\n",
       "      <td>58.000000</td>\n",
       "      <td>2.000000</td>\n",
       "      <td>170.000000</td>\n",
       "      <td>80.000000</td>\n",
       "      <td>140.000000</td>\n",
       "      <td>90.000000</td>\n",
       "      <td>1.000000</td>\n",
       "      <td>1.000000</td>\n",
       "      <td>0.000000</td>\n",
       "      <td>0.000000</td>\n",
       "      <td>1.000000</td>\n",
       "      <td>29.687500</td>\n",
       "    </tr>\n",
       "    <tr>\n",
       "      <th>max</th>\n",
       "      <td>65.000000</td>\n",
       "      <td>2.000000</td>\n",
       "      <td>250.000000</td>\n",
       "      <td>102.000000</td>\n",
       "      <td>240.000000</td>\n",
       "      <td>140.000000</td>\n",
       "      <td>3.000000</td>\n",
       "      <td>3.000000</td>\n",
       "      <td>1.000000</td>\n",
       "      <td>1.000000</td>\n",
       "      <td>1.000000</td>\n",
       "      <td>267.768595</td>\n",
       "    </tr>\n",
       "  </tbody>\n",
       "</table>\n",
       "</div>"
      ],
      "text/plain": [
       "                age        gender        height        weight         ap_hi  \\\n",
       "count  65550.000000  65550.000000  65550.000000  65550.000000  65550.000000   \n",
       "mean      53.329397      1.346285    164.272906     72.705122    126.259908   \n",
       "std        6.762154      0.475789      8.023614     11.684446     16.429007   \n",
       "min       30.000000      1.000000     55.000000     46.000000     70.000000   \n",
       "25%       48.000000      1.000000    159.000000     65.000000    120.000000   \n",
       "50%       54.000000      1.000000    165.000000     71.000000    120.000000   \n",
       "75%       58.000000      2.000000    170.000000     80.000000    140.000000   \n",
       "max       65.000000      2.000000    250.000000    102.000000    240.000000   \n",
       "\n",
       "              ap_lo   cholesterol          gluc         smoke          alco  \\\n",
       "count  65550.000000  65550.000000  65550.000000  65550.000000  65550.000000   \n",
       "mean      81.206911      1.354249      1.218566      0.086743      0.052220   \n",
       "std        9.357428      0.671184      0.564659      0.281460      0.222471   \n",
       "min       52.000000      1.000000      1.000000      0.000000      0.000000   \n",
       "25%       80.000000      1.000000      1.000000      0.000000      0.000000   \n",
       "50%       80.000000      1.000000      1.000000      0.000000      0.000000   \n",
       "75%       90.000000      1.000000      1.000000      0.000000      0.000000   \n",
       "max      140.000000      3.000000      3.000000      1.000000      1.000000   \n",
       "\n",
       "             cardio           BMI  \n",
       "count  65550.000000  65550.000000  \n",
       "mean       0.488299     27.039223  \n",
       "std        0.499867      5.047929  \n",
       "min        0.000000     13.760000  \n",
       "25%        0.000000     23.833005  \n",
       "50%        0.000000     26.142688  \n",
       "75%        1.000000     29.687500  \n",
       "max        1.000000    267.768595  "
      ]
     },
     "execution_count": 28,
     "metadata": {},
     "output_type": "execute_result"
    }
   ],
   "source": [
    "data.describe()"
   ]
  },
  {
   "cell_type": "code",
   "execution_count": 29,
   "id": "e8e5f7ac",
   "metadata": {
    "execution": {
     "iopub.execute_input": "2022-06-07T14:42:34.735695Z",
     "iopub.status.busy": "2022-06-07T14:42:34.735103Z",
     "iopub.status.idle": "2022-06-07T14:42:34.751192Z",
     "shell.execute_reply": "2022-06-07T14:42:34.750088Z"
    },
    "papermill": {
     "duration": 0.04062,
     "end_time": "2022-06-07T14:42:34.753548",
     "exception": false,
     "start_time": "2022-06-07T14:42:34.712928",
     "status": "completed"
    },
    "tags": []
   },
   "outputs": [
    {
     "name": "stdout",
     "output_type": "stream",
     "text": [
      "upper limit:  180.32013502364015\n",
      "Lower limit:  148.22567733333926\n"
     ]
    }
   ],
   "source": [
    "upper_limit= data.height.mean() + 2*data.height.std()\n",
    "print('upper limit: ',upper_limit)\n",
    "lower_limit= data.height.mean() - 2*data.height.std()\n",
    "print('Lower limit: ',lower_limit)\n",
    "\n",
    "data=data[data['height']<upper_limit]\n",
    "data=data[data['height']>lower_limit]\n"
   ]
  },
  {
   "cell_type": "code",
   "execution_count": 30,
   "id": "f4748818",
   "metadata": {
    "execution": {
     "iopub.execute_input": "2022-06-07T14:42:34.796428Z",
     "iopub.status.busy": "2022-06-07T14:42:34.795213Z",
     "iopub.status.idle": "2022-06-07T14:42:34.812651Z",
     "shell.execute_reply": "2022-06-07T14:42:34.811587Z"
    },
    "papermill": {
     "duration": 0.041271,
     "end_time": "2022-06-07T14:42:34.815172",
     "exception": false,
     "start_time": "2022-06-07T14:42:34.773901",
     "status": "completed"
    },
    "tags": []
   },
   "outputs": [
    {
     "name": "stdout",
     "output_type": "stream",
     "text": [
      "upper limit:  175.38118514996137\n",
      "Lower limit:  77.03762946609105\n"
     ]
    }
   ],
   "source": [
    "upper_limit= data.ap_hi.mean() + 3*data.ap_hi.std()\n",
    "print('upper limit: ',upper_limit)\n",
    "lower_limit= data.ap_hi.mean() - 3*data.ap_hi.std()\n",
    "print('Lower limit: ',lower_limit)\n",
    "\n",
    "data=data[data['ap_hi']<upper_limit]\n",
    "data=data[data['ap_hi']>lower_limit]\n"
   ]
  },
  {
   "cell_type": "code",
   "execution_count": 31,
   "id": "4c34152d",
   "metadata": {
    "execution": {
     "iopub.execute_input": "2022-06-07T14:42:34.865572Z",
     "iopub.status.busy": "2022-06-07T14:42:34.865204Z",
     "iopub.status.idle": "2022-06-07T14:42:34.885280Z",
     "shell.execute_reply": "2022-06-07T14:42:34.883772Z"
    },
    "papermill": {
     "duration": 0.045397,
     "end_time": "2022-06-07T14:42:34.889083",
     "exception": false,
     "start_time": "2022-06-07T14:42:34.843686",
     "status": "completed"
    },
    "tags": []
   },
   "outputs": [
    {
     "name": "stdout",
     "output_type": "stream",
     "text": [
      "upper limit:  108.0428134621664\n",
      "Lower limit:  53.85359948062596\n"
     ]
    }
   ],
   "source": [
    "upper_limit= data.ap_lo.mean() + 3*data.ap_lo.std()\n",
    "print('upper limit: ',upper_limit)\n",
    "lower_limit= data.ap_lo.mean() - 3*data.ap_lo.std()\n",
    "print('Lower limit: ',lower_limit)\n",
    "\n",
    "data=data[data['ap_lo']<150]\n",
    "data=data[data['ap_lo']>50]"
   ]
  },
  {
   "cell_type": "code",
   "execution_count": 32,
   "id": "5680b2c6",
   "metadata": {
    "execution": {
     "iopub.execute_input": "2022-06-07T14:42:34.941645Z",
     "iopub.status.busy": "2022-06-07T14:42:34.941265Z",
     "iopub.status.idle": "2022-06-07T14:42:35.462116Z",
     "shell.execute_reply": "2022-06-07T14:42:35.461122Z"
    },
    "papermill": {
     "duration": 0.544197,
     "end_time": "2022-06-07T14:42:35.464198",
     "exception": false,
     "start_time": "2022-06-07T14:42:34.920001",
     "status": "completed"
    },
    "tags": []
   },
   "outputs": [
    {
     "data": {
      "image/png": "[encoded data removed]",
      "text/plain": [
       "<Figure size 1080x720 with 6 Axes>"
      ]
     },
     "metadata": {
      "needs_background": "light"
     },
     "output_type": "display_data"
    }
   ],
   "source": [
    "col=data.columns\n",
    "plt.figure(figsize=(15,10))\n",
    "for i in range(len(col)-6):\n",
    "    plt.subplot(2,3,i+1)\n",
    "    plt.boxplot(data[col[i]])\n",
    "    plt.xlabel(col[i])"
   ]
  },
  {
   "cell_type": "code",
   "execution_count": 33,
   "id": "fc314c51",
   "metadata": {
    "execution": {
     "iopub.execute_input": "2022-06-07T14:42:35.509194Z",
     "iopub.status.busy": "2022-06-07T14:42:35.508841Z",
     "iopub.status.idle": "2022-06-07T14:42:36.229277Z",
     "shell.execute_reply": "2022-06-07T14:42:36.228565Z"
    },
    "papermill": {
     "duration": 0.745027,
     "end_time": "2022-06-07T14:42:36.231262",
     "exception": false,
     "start_time": "2022-06-07T14:42:35.486235",
     "status": "completed"
    },
    "tags": []
   },
   "outputs": [
    {
     "data": {
      "image/png": "[encoded data removed]",
      "text/plain": [
       "<Figure size 1080x720 with 6 Axes>"
      ]
     },
     "metadata": {
      "needs_background": "light"
     },
     "output_type": "display_data"
    }
   ],
   "source": [
    "col=data.columns\n",
    "plt.figure(figsize=(15,10))\n",
    "for i in range(len(col)-6):\n",
    "    plt.subplot(2,3,i+1)\n",
    "    plt.hist(data[col[i]])\n",
    "    plt.xlabel(col[i])"
   ]
  },
  {
   "cell_type": "code",
   "execution_count": 34,
   "id": "438c174a",
   "metadata": {
    "execution": {
     "iopub.execute_input": "2022-06-07T14:42:36.277375Z",
     "iopub.status.busy": "2022-06-07T14:42:36.276334Z",
     "iopub.status.idle": "2022-06-07T14:42:36.340322Z",
     "shell.execute_reply": "2022-06-07T14:42:36.339368Z"
    },
    "papermill": {
     "duration": 0.089036,
     "end_time": "2022-06-07T14:42:36.342256",
     "exception": false,
     "start_time": "2022-06-07T14:42:36.253220",
     "status": "completed"
    },
    "tags": []
   },
   "outputs": [
    {
     "data": {
      "text/html": [
       "<div>\n",
       "<style scoped>\n",
       "    .dataframe tbody tr th:only-of-type {\n",
       "        vertical-align: middle;\n",
       "    }\n",
       "\n",
       "    .dataframe tbody tr th {\n",
       "        vertical-align: top;\n",
       "    }\n",
       "\n",
       "    .dataframe thead th {\n",
       "        text-align: right;\n",
       "    }\n",
       "</style>\n",
       "<table border=\"1\" class=\"dataframe\">\n",
       "  <thead>\n",
       "    <tr style=\"text-align: right;\">\n",
       "      <th></th>\n",
       "      <th>age</th>\n",
       "      <th>gender</th>\n",
       "      <th>height</th>\n",
       "      <th>weight</th>\n",
       "      <th>ap_hi</th>\n",
       "      <th>ap_lo</th>\n",
       "      <th>cholesterol</th>\n",
       "      <th>gluc</th>\n",
       "      <th>smoke</th>\n",
       "      <th>alco</th>\n",
       "      <th>cardio</th>\n",
       "      <th>BMI</th>\n",
       "    </tr>\n",
       "  </thead>\n",
       "  <tbody>\n",
       "    <tr>\n",
       "      <th>count</th>\n",
       "      <td>62614.000000</td>\n",
       "      <td>62614.000000</td>\n",
       "      <td>62614.000000</td>\n",
       "      <td>62614.000000</td>\n",
       "      <td>62614.000000</td>\n",
       "      <td>62614.000000</td>\n",
       "      <td>62614.000000</td>\n",
       "      <td>62614.000000</td>\n",
       "      <td>62614.000000</td>\n",
       "      <td>62614.000000</td>\n",
       "      <td>62614.000000</td>\n",
       "      <td>62614.000000</td>\n",
       "    </tr>\n",
       "    <tr>\n",
       "      <th>mean</th>\n",
       "      <td>53.287747</td>\n",
       "      <td>1.340467</td>\n",
       "      <td>164.282333</td>\n",
       "      <td>72.544897</td>\n",
       "      <td>125.528332</td>\n",
       "      <td>80.948206</td>\n",
       "      <td>1.349858</td>\n",
       "      <td>1.217603</td>\n",
       "      <td>0.085013</td>\n",
       "      <td>0.051282</td>\n",
       "      <td>0.483167</td>\n",
       "      <td>26.925633</td>\n",
       "    </tr>\n",
       "    <tr>\n",
       "      <th>std</th>\n",
       "      <td>6.760275</td>\n",
       "      <td>0.473870</td>\n",
       "      <td>6.940064</td>\n",
       "      <td>11.540075</td>\n",
       "      <td>15.112495</td>\n",
       "      <td>9.031536</td>\n",
       "      <td>0.668079</td>\n",
       "      <td>0.564074</td>\n",
       "      <td>0.278903</td>\n",
       "      <td>0.220575</td>\n",
       "      <td>0.499721</td>\n",
       "      <td>4.347394</td>\n",
       "    </tr>\n",
       "    <tr>\n",
       "      <th>min</th>\n",
       "      <td>30.000000</td>\n",
       "      <td>1.000000</td>\n",
       "      <td>149.000000</td>\n",
       "      <td>46.000000</td>\n",
       "      <td>80.000000</td>\n",
       "      <td>52.000000</td>\n",
       "      <td>1.000000</td>\n",
       "      <td>1.000000</td>\n",
       "      <td>0.000000</td>\n",
       "      <td>0.000000</td>\n",
       "      <td>0.000000</td>\n",
       "      <td>15.369708</td>\n",
       "    </tr>\n",
       "    <tr>\n",
       "      <th>25%</th>\n",
       "      <td>48.000000</td>\n",
       "      <td>1.000000</td>\n",
       "      <td>159.000000</td>\n",
       "      <td>65.000000</td>\n",
       "      <td>120.000000</td>\n",
       "      <td>80.000000</td>\n",
       "      <td>1.000000</td>\n",
       "      <td>1.000000</td>\n",
       "      <td>0.000000</td>\n",
       "      <td>0.000000</td>\n",
       "      <td>0.000000</td>\n",
       "      <td>23.808690</td>\n",
       "    </tr>\n",
       "    <tr>\n",
       "      <th>50%</th>\n",
       "      <td>54.000000</td>\n",
       "      <td>1.000000</td>\n",
       "      <td>165.000000</td>\n",
       "      <td>71.000000</td>\n",
       "      <td>120.000000</td>\n",
       "      <td>80.000000</td>\n",
       "      <td>1.000000</td>\n",
       "      <td>1.000000</td>\n",
       "      <td>0.000000</td>\n",
       "      <td>0.000000</td>\n",
       "      <td>0.000000</td>\n",
       "      <td>26.106562</td>\n",
       "    </tr>\n",
       "    <tr>\n",
       "      <th>75%</th>\n",
       "      <td>58.000000</td>\n",
       "      <td>2.000000</td>\n",
       "      <td>169.000000</td>\n",
       "      <td>80.000000</td>\n",
       "      <td>140.000000</td>\n",
       "      <td>90.000000</td>\n",
       "      <td>1.000000</td>\n",
       "      <td>1.000000</td>\n",
       "      <td>0.000000</td>\n",
       "      <td>0.000000</td>\n",
       "      <td>1.000000</td>\n",
       "      <td>29.585799</td>\n",
       "    </tr>\n",
       "    <tr>\n",
       "      <th>max</th>\n",
       "      <td>65.000000</td>\n",
       "      <td>2.000000</td>\n",
       "      <td>180.000000</td>\n",
       "      <td>102.000000</td>\n",
       "      <td>175.000000</td>\n",
       "      <td>140.000000</td>\n",
       "      <td>3.000000</td>\n",
       "      <td>3.000000</td>\n",
       "      <td>1.000000</td>\n",
       "      <td>1.000000</td>\n",
       "      <td>1.000000</td>\n",
       "      <td>45.943876</td>\n",
       "    </tr>\n",
       "  </tbody>\n",
       "</table>\n",
       "</div>"
      ],
      "text/plain": [
       "                age        gender        height        weight         ap_hi  \\\n",
       "count  62614.000000  62614.000000  62614.000000  62614.000000  62614.000000   \n",
       "mean      53.287747      1.340467    164.282333     72.544897    125.528332   \n",
       "std        6.760275      0.473870      6.940064     11.540075     15.112495   \n",
       "min       30.000000      1.000000    149.000000     46.000000     80.000000   \n",
       "25%       48.000000      1.000000    159.000000     65.000000    120.000000   \n",
       "50%       54.000000      1.000000    165.000000     71.000000    120.000000   \n",
       "75%       58.000000      2.000000    169.000000     80.000000    140.000000   \n",
       "max       65.000000      2.000000    180.000000    102.000000    175.000000   \n",
       "\n",
       "              ap_lo   cholesterol          gluc         smoke          alco  \\\n",
       "count  62614.000000  62614.000000  62614.000000  62614.000000  62614.000000   \n",
       "mean      80.948206      1.349858      1.217603      0.085013      0.051282   \n",
       "std        9.031536      0.668079      0.564074      0.278903      0.220575   \n",
       "min       52.000000      1.000000      1.000000      0.000000      0.000000   \n",
       "25%       80.000000      1.000000      1.000000      0.000000      0.000000   \n",
       "50%       80.000000      1.000000      1.000000      0.000000      0.000000   \n",
       "75%       90.000000      1.000000      1.000000      0.000000      0.000000   \n",
       "max      140.000000      3.000000      3.000000      1.000000      1.000000   \n",
       "\n",
       "             cardio           BMI  \n",
       "count  62614.000000  62614.000000  \n",
       "mean       0.483167     26.925633  \n",
       "std        0.499721      4.347394  \n",
       "min        0.000000     15.369708  \n",
       "25%        0.000000     23.808690  \n",
       "50%        0.000000     26.106562  \n",
       "75%        1.000000     29.585799  \n",
       "max        1.000000     45.943876  "
      ]
     },
     "execution_count": 34,
     "metadata": {},
     "output_type": "execute_result"
    }
   ],
   "source": [
    "data.describe()"
   ]
  },
  {
   "cell_type": "markdown",
   "id": "8b6ce97f",
   "metadata": {
    "papermill": {
     "duration": 0.021113,
     "end_time": "2022-06-07T14:42:36.384960",
     "exception": false,
     "start_time": "2022-06-07T14:42:36.363847",
     "status": "completed"
    },
    "tags": []
   },
   "source": [
    "# Building the model"
   ]
  },
  {
   "cell_type": "code",
   "execution_count": 35,
   "id": "6a3e2137",
   "metadata": {
    "execution": {
     "iopub.execute_input": "2022-06-07T14:42:36.430289Z",
     "iopub.status.busy": "2022-06-07T14:42:36.429359Z",
     "iopub.status.idle": "2022-06-07T14:42:36.433683Z",
     "shell.execute_reply": "2022-06-07T14:42:36.433020Z"
    },
    "papermill": {
     "duration": 0.028816,
     "end_time": "2022-06-07T14:42:36.435329",
     "exception": false,
     "start_time": "2022-06-07T14:42:36.406513",
     "status": "completed"
    },
    "tags": []
   },
   "outputs": [],
   "source": [
    "y=data.cardio"
   ]
  },
  {
   "cell_type": "code",
   "execution_count": 36,
   "id": "2e84e18e",
   "metadata": {
    "execution": {
     "iopub.execute_input": "2022-06-07T14:42:36.480044Z",
     "iopub.status.busy": "2022-06-07T14:42:36.479542Z",
     "iopub.status.idle": "2022-06-07T14:42:36.485302Z",
     "shell.execute_reply": "2022-06-07T14:42:36.484600Z"
    },
    "papermill": {
     "duration": 0.030558,
     "end_time": "2022-06-07T14:42:36.487299",
     "exception": false,
     "start_time": "2022-06-07T14:42:36.456741",
     "status": "completed"
    },
    "tags": []
   },
   "outputs": [],
   "source": [
    "x=data[['age','gender','height','weight','ap_hi','ap_lo','cholesterol','gluc','smoke','alco']]"
   ]
  },
  {
   "cell_type": "code",
   "execution_count": 37,
   "id": "7850ed1a",
   "metadata": {
    "execution": {
     "iopub.execute_input": "2022-06-07T14:42:36.532323Z",
     "iopub.status.busy": "2022-06-07T14:42:36.531591Z",
     "iopub.status.idle": "2022-06-07T14:42:36.549167Z",
     "shell.execute_reply": "2022-06-07T14:42:36.548084Z"
    },
    "papermill": {
     "duration": 0.041907,
     "end_time": "2022-06-07T14:42:36.551097",
     "exception": false,
     "start_time": "2022-06-07T14:42:36.509190",
     "status": "completed"
    },
    "tags": []
   },
   "outputs": [
    {
     "data": {
      "text/html": [
       "<div>\n",
       "<style scoped>\n",
       "    .dataframe tbody tr th:only-of-type {\n",
       "        vertical-align: middle;\n",
       "    }\n",
       "\n",
       "    .dataframe tbody tr th {\n",
       "        vertical-align: top;\n",
       "    }\n",
       "\n",
       "    .dataframe thead th {\n",
       "        text-align: right;\n",
       "    }\n",
       "</style>\n",
       "<table border=\"1\" class=\"dataframe\">\n",
       "  <thead>\n",
       "    <tr style=\"text-align: right;\">\n",
       "      <th></th>\n",
       "      <th>age</th>\n",
       "      <th>gender</th>\n",
       "      <th>height</th>\n",
       "      <th>weight</th>\n",
       "      <th>ap_hi</th>\n",
       "      <th>ap_lo</th>\n",
       "      <th>cholesterol</th>\n",
       "      <th>gluc</th>\n",
       "      <th>smoke</th>\n",
       "      <th>alco</th>\n",
       "    </tr>\n",
       "  </thead>\n",
       "  <tbody>\n",
       "    <tr>\n",
       "      <th>0</th>\n",
       "      <td>50.0</td>\n",
       "      <td>2</td>\n",
       "      <td>168</td>\n",
       "      <td>62.0</td>\n",
       "      <td>110</td>\n",
       "      <td>80</td>\n",
       "      <td>1</td>\n",
       "      <td>1</td>\n",
       "      <td>0</td>\n",
       "      <td>0</td>\n",
       "    </tr>\n",
       "    <tr>\n",
       "      <th>1</th>\n",
       "      <td>55.0</td>\n",
       "      <td>1</td>\n",
       "      <td>156</td>\n",
       "      <td>85.0</td>\n",
       "      <td>140</td>\n",
       "      <td>90</td>\n",
       "      <td>3</td>\n",
       "      <td>1</td>\n",
       "      <td>0</td>\n",
       "      <td>0</td>\n",
       "    </tr>\n",
       "    <tr>\n",
       "      <th>2</th>\n",
       "      <td>52.0</td>\n",
       "      <td>1</td>\n",
       "      <td>165</td>\n",
       "      <td>64.0</td>\n",
       "      <td>130</td>\n",
       "      <td>70</td>\n",
       "      <td>3</td>\n",
       "      <td>1</td>\n",
       "      <td>0</td>\n",
       "      <td>0</td>\n",
       "    </tr>\n",
       "    <tr>\n",
       "      <th>3</th>\n",
       "      <td>48.0</td>\n",
       "      <td>2</td>\n",
       "      <td>169</td>\n",
       "      <td>82.0</td>\n",
       "      <td>150</td>\n",
       "      <td>100</td>\n",
       "      <td>1</td>\n",
       "      <td>1</td>\n",
       "      <td>0</td>\n",
       "      <td>0</td>\n",
       "    </tr>\n",
       "    <tr>\n",
       "      <th>4</th>\n",
       "      <td>48.0</td>\n",
       "      <td>1</td>\n",
       "      <td>156</td>\n",
       "      <td>56.0</td>\n",
       "      <td>100</td>\n",
       "      <td>60</td>\n",
       "      <td>1</td>\n",
       "      <td>1</td>\n",
       "      <td>0</td>\n",
       "      <td>0</td>\n",
       "    </tr>\n",
       "    <tr>\n",
       "      <th>...</th>\n",
       "      <td>...</td>\n",
       "      <td>...</td>\n",
       "      <td>...</td>\n",
       "      <td>...</td>\n",
       "      <td>...</td>\n",
       "      <td>...</td>\n",
       "      <td>...</td>\n",
       "      <td>...</td>\n",
       "      <td>...</td>\n",
       "      <td>...</td>\n",
       "    </tr>\n",
       "    <tr>\n",
       "      <th>69993</th>\n",
       "      <td>54.0</td>\n",
       "      <td>1</td>\n",
       "      <td>172</td>\n",
       "      <td>70.0</td>\n",
       "      <td>130</td>\n",
       "      <td>90</td>\n",
       "      <td>1</td>\n",
       "      <td>1</td>\n",
       "      <td>0</td>\n",
       "      <td>0</td>\n",
       "    </tr>\n",
       "    <tr>\n",
       "      <th>69994</th>\n",
       "      <td>58.0</td>\n",
       "      <td>1</td>\n",
       "      <td>165</td>\n",
       "      <td>80.0</td>\n",
       "      <td>150</td>\n",
       "      <td>80</td>\n",
       "      <td>1</td>\n",
       "      <td>1</td>\n",
       "      <td>0</td>\n",
       "      <td>0</td>\n",
       "    </tr>\n",
       "    <tr>\n",
       "      <th>69995</th>\n",
       "      <td>53.0</td>\n",
       "      <td>2</td>\n",
       "      <td>168</td>\n",
       "      <td>76.0</td>\n",
       "      <td>120</td>\n",
       "      <td>80</td>\n",
       "      <td>1</td>\n",
       "      <td>1</td>\n",
       "      <td>1</td>\n",
       "      <td>0</td>\n",
       "    </tr>\n",
       "    <tr>\n",
       "      <th>69998</th>\n",
       "      <td>61.0</td>\n",
       "      <td>1</td>\n",
       "      <td>163</td>\n",
       "      <td>72.0</td>\n",
       "      <td>135</td>\n",
       "      <td>80</td>\n",
       "      <td>1</td>\n",
       "      <td>2</td>\n",
       "      <td>0</td>\n",
       "      <td>0</td>\n",
       "    </tr>\n",
       "    <tr>\n",
       "      <th>69999</th>\n",
       "      <td>56.0</td>\n",
       "      <td>1</td>\n",
       "      <td>170</td>\n",
       "      <td>72.0</td>\n",
       "      <td>120</td>\n",
       "      <td>80</td>\n",
       "      <td>2</td>\n",
       "      <td>1</td>\n",
       "      <td>0</td>\n",
       "      <td>0</td>\n",
       "    </tr>\n",
       "  </tbody>\n",
       "</table>\n",
       "<p>62614 rows × 10 columns</p>\n",
       "</div>"
      ],
      "text/plain": [
       "        age  gender  height  weight  ap_hi  ap_lo  cholesterol  gluc  smoke  \\\n",
       "0      50.0       2     168    62.0    110     80            1     1      0   \n",
       "1      55.0       1     156    85.0    140     90            3     1      0   \n",
       "2      52.0       1     165    64.0    130     70            3     1      0   \n",
       "3      48.0       2     169    82.0    150    100            1     1      0   \n",
       "4      48.0       1     156    56.0    100     60            1     1      0   \n",
       "...     ...     ...     ...     ...    ...    ...          ...   ...    ...   \n",
       "69993  54.0       1     172    70.0    130     90            1     1      0   \n",
       "69994  58.0       1     165    80.0    150     80            1     1      0   \n",
       "69995  53.0       2     168    76.0    120     80            1     1      1   \n",
       "69998  61.0       1     163    72.0    135     80            1     2      0   \n",
       "69999  56.0       1     170    72.0    120     80            2     1      0   \n",
       "\n",
       "       alco  \n",
       "0         0  \n",
       "1         0  \n",
       "2         0  \n",
       "3         0  \n",
       "4         0  \n",
       "...     ...  \n",
       "69993     0  \n",
       "69994     0  \n",
       "69995     0  \n",
       "69998     0  \n",
       "69999     0  \n",
       "\n",
       "[62614 rows x 10 columns]"
      ]
     },
     "execution_count": 37,
     "metadata": {},
     "output_type": "execute_result"
    }
   ],
   "source": [
    "x"
   ]
  },
  {
   "cell_type": "code",
   "execution_count": 38,
   "id": "343b308e",
   "metadata": {
    "execution": {
     "iopub.execute_input": "2022-06-07T14:42:36.596296Z",
     "iopub.status.busy": "2022-06-07T14:42:36.595508Z",
     "iopub.status.idle": "2022-06-07T14:42:37.008390Z",
     "shell.execute_reply": "2022-06-07T14:42:37.007313Z"
    },
    "papermill": {
     "duration": 0.437936,
     "end_time": "2022-06-07T14:42:37.010732",
     "exception": false,
     "start_time": "2022-06-07T14:42:36.572796",
     "status": "completed"
    },
    "tags": []
   },
   "outputs": [],
   "source": [
    "from sklearn.model_selection import train_test_split\n",
    "from sklearn.metrics import confusion_matrix,accuracy_score,classification_report\n",
    "from sklearn.ensemble import GradientBoostingClassifier,RandomForestClassifier\n",
    "from sklearn.linear_model import LogisticRegression"
   ]
  },
  {
   "cell_type": "code",
   "execution_count": 39,
   "id": "4791c1f6",
   "metadata": {
    "execution": {
     "iopub.execute_input": "2022-06-07T14:42:37.056301Z",
     "iopub.status.busy": "2022-06-07T14:42:37.055921Z",
     "iopub.status.idle": "2022-06-07T14:42:37.077667Z",
     "shell.execute_reply": "2022-06-07T14:42:37.076805Z"
    },
    "papermill": {
     "duration": 0.046861,
     "end_time": "2022-06-07T14:42:37.079803",
     "exception": false,
     "start_time": "2022-06-07T14:42:37.032942",
     "status": "completed"
    },
    "tags": []
   },
   "outputs": [],
   "source": [
    "x_train,x_test,y_train,y_test=train_test_split(x,y,test_size=0.33,random_state=True)"
   ]
  },
  {
   "cell_type": "markdown",
   "id": "05de4f34",
   "metadata": {
    "papermill": {
     "duration": 0.02139,
     "end_time": "2022-06-07T14:42:37.122772",
     "exception": false,
     "start_time": "2022-06-07T14:42:37.101382",
     "status": "completed"
    },
    "tags": []
   },
   "source": [
    "### Logistic Regression"
   ]
  },
  {
   "cell_type": "code",
   "execution_count": 40,
   "id": "0baaaee8",
   "metadata": {
    "execution": {
     "iopub.execute_input": "2022-06-07T14:42:37.167468Z",
     "iopub.status.busy": "2022-06-07T14:42:37.167107Z",
     "iopub.status.idle": "2022-06-07T14:42:37.978051Z",
     "shell.execute_reply": "2022-06-07T14:42:37.977031Z"
    },
    "papermill": {
     "duration": 0.836843,
     "end_time": "2022-06-07T14:42:37.981129",
     "exception": false,
     "start_time": "2022-06-07T14:42:37.144286",
     "status": "completed"
    },
    "tags": []
   },
   "outputs": [
    {
     "name": "stdout",
     "output_type": "stream",
     "text": [
      "Accuracy of Logistic Regression: 0.7271935343367372\n"
     ]
    }
   ],
   "source": [
    "lgr=LogisticRegression(solver='newton-cg').fit(x_train,y_train)\n",
    "print('Accuracy of Logistic Regression:',accuracy_score(y_test,lgr.predict(x_test)))"
   ]
  },
  {
   "cell_type": "code",
   "execution_count": 41,
   "id": "c46eb01f",
   "metadata": {
    "execution": {
     "iopub.execute_input": "2022-06-07T14:42:38.095893Z",
     "iopub.status.busy": "2022-06-07T14:42:38.095513Z",
     "iopub.status.idle": "2022-06-07T14:42:38.175265Z",
     "shell.execute_reply": "2022-06-07T14:42:38.174230Z"
    },
    "papermill": {
     "duration": 0.153465,
     "end_time": "2022-06-07T14:42:38.178497",
     "exception": false,
     "start_time": "2022-06-07T14:42:38.025032",
     "status": "completed"
    },
    "tags": []
   },
   "outputs": [
    {
     "name": "stdout",
     "output_type": "stream",
     "text": [
      "Classification Report:\n",
      "               precision    recall  f1-score   support\n",
      "\n",
      "           0       0.71      0.80      0.75     10788\n",
      "           1       0.75      0.65      0.69      9875\n",
      "\n",
      "    accuracy                           0.73     20663\n",
      "   macro avg       0.73      0.72      0.72     20663\n",
      "weighted avg       0.73      0.73      0.73     20663\n",
      "\n"
     ]
    }
   ],
   "source": [
    "print('Classification Report:\\n',classification_report(y_test,lgr.predict(x_test)))"
   ]
  },
  {
   "cell_type": "markdown",
   "id": "7b547edb",
   "metadata": {
    "papermill": {
     "duration": 0.02248,
     "end_time": "2022-06-07T14:42:38.245535",
     "exception": false,
     "start_time": "2022-06-07T14:42:38.223055",
     "status": "completed"
    },
    "tags": []
   },
   "source": [
    "### Gradient Boosting Classifier"
   ]
  },
  {
   "cell_type": "code",
   "execution_count": 42,
   "id": "157cefb8",
   "metadata": {
    "execution": {
     "iopub.execute_input": "2022-06-07T14:42:38.291771Z",
     "iopub.status.busy": "2022-06-07T14:42:38.291393Z",
     "iopub.status.idle": "2022-06-07T14:42:41.253430Z",
     "shell.execute_reply": "2022-06-07T14:42:41.252202Z"
    },
    "papermill": {
     "duration": 2.987961,
     "end_time": "2022-06-07T14:42:41.255849",
     "exception": false,
     "start_time": "2022-06-07T14:42:38.267888",
     "status": "completed"
    },
    "tags": []
   },
   "outputs": [],
   "source": [
    "model=GradientBoostingClassifier().fit(x_train,y_train)"
   ]
  },
  {
   "cell_type": "code",
   "execution_count": 43,
   "id": "b1d60a88",
   "metadata": {
    "execution": {
     "iopub.execute_input": "2022-06-07T14:42:41.302980Z",
     "iopub.status.busy": "2022-06-07T14:42:41.302571Z",
     "iopub.status.idle": "2022-06-07T14:42:41.341701Z",
     "shell.execute_reply": "2022-06-07T14:42:41.340613Z"
    },
    "papermill": {
     "duration": 0.066249,
     "end_time": "2022-06-07T14:42:41.344243",
     "exception": false,
     "start_time": "2022-06-07T14:42:41.277994",
     "status": "completed"
    },
    "tags": []
   },
   "outputs": [],
   "source": [
    "pred=model.predict(x_test)"
   ]
  },
  {
   "cell_type": "code",
   "execution_count": 44,
   "id": "9a1efa66",
   "metadata": {
    "execution": {
     "iopub.execute_input": "2022-06-07T14:42:41.390297Z",
     "iopub.status.busy": "2022-06-07T14:42:41.389827Z",
     "iopub.status.idle": "2022-06-07T14:42:41.397453Z",
     "shell.execute_reply": "2022-06-07T14:42:41.396269Z"
    },
    "papermill": {
     "duration": 0.033056,
     "end_time": "2022-06-07T14:42:41.399403",
     "exception": false,
     "start_time": "2022-06-07T14:42:41.366347",
     "status": "completed"
    },
    "tags": []
   },
   "outputs": [
    {
     "name": "stdout",
     "output_type": "stream",
     "text": [
      "Accuracy of GradientBoostingClassifier: 0.7316459371824033\n"
     ]
    }
   ],
   "source": [
    "print('Accuracy of GradientBoostingClassifier:',accuracy_score(y_test,pred))"
   ]
  },
  {
   "cell_type": "code",
   "execution_count": 45,
   "id": "18f31f41",
   "metadata": {
    "execution": {
     "iopub.execute_input": "2022-06-07T14:42:41.444669Z",
     "iopub.status.busy": "2022-06-07T14:42:41.444306Z",
     "iopub.status.idle": "2022-06-07T14:42:41.490454Z",
     "shell.execute_reply": "2022-06-07T14:42:41.489756Z"
    },
    "papermill": {
     "duration": 0.07157,
     "end_time": "2022-06-07T14:42:41.492970",
     "exception": false,
     "start_time": "2022-06-07T14:42:41.421400",
     "status": "completed"
    },
    "tags": []
   },
   "outputs": [
    {
     "name": "stdout",
     "output_type": "stream",
     "text": [
      "Classification Report:\n",
      "               precision    recall  f1-score   support\n",
      "\n",
      "           0       0.72      0.79      0.75     10788\n",
      "           1       0.74      0.67      0.70      9875\n",
      "\n",
      "    accuracy                           0.73     20663\n",
      "   macro avg       0.73      0.73      0.73     20663\n",
      "weighted avg       0.73      0.73      0.73     20663\n",
      "\n"
     ]
    }
   ],
   "source": [
    "print('Classification Report:\\n',classification_report(y_test,pred))"
   ]
  },
  {
   "cell_type": "markdown",
   "id": "8c15a150",
   "metadata": {
    "papermill": {
     "duration": 0.022233,
     "end_time": "2022-06-07T14:42:41.539235",
     "exception": false,
     "start_time": "2022-06-07T14:42:41.517002",
     "status": "completed"
    },
    "tags": []
   },
   "source": [
    "### Random Forest Classifier"
   ]
  },
  {
   "cell_type": "code",
   "execution_count": 46,
   "id": "1ff8f592",
   "metadata": {
    "execution": {
     "iopub.execute_input": "2022-06-07T14:42:41.584559Z",
     "iopub.status.busy": "2022-06-07T14:42:41.584186Z",
     "iopub.status.idle": "2022-06-07T14:42:45.948034Z",
     "shell.execute_reply": "2022-06-07T14:42:45.947167Z"
    },
    "papermill": {
     "duration": 4.388789,
     "end_time": "2022-06-07T14:42:45.949939",
     "exception": false,
     "start_time": "2022-06-07T14:42:41.561150",
     "status": "completed"
    },
    "tags": []
   },
   "outputs": [
    {
     "data": {
      "text/plain": [
       "RandomForestClassifier(random_state=True)"
      ]
     },
     "execution_count": 46,
     "metadata": {},
     "output_type": "execute_result"
    }
   ],
   "source": [
    "rfc = RandomForestClassifier(random_state=True)\n",
    "rfc.fit(x_train, y_train)"
   ]
  },
  {
   "cell_type": "code",
   "execution_count": 47,
   "id": "802deb48",
   "metadata": {
    "execution": {
     "iopub.execute_input": "2022-06-07T14:42:45.994882Z",
     "iopub.status.busy": "2022-06-07T14:42:45.994256Z",
     "iopub.status.idle": "2022-06-07T14:42:46.663504Z",
     "shell.execute_reply": "2022-06-07T14:42:46.662317Z"
    },
    "papermill": {
     "duration": 0.694808,
     "end_time": "2022-06-07T14:42:46.666527",
     "exception": false,
     "start_time": "2022-06-07T14:42:45.971719",
     "status": "completed"
    },
    "tags": []
   },
   "outputs": [
    {
     "name": "stdout",
     "output_type": "stream",
     "text": [
      "Accuracy of random forrest classifier: 0.6969946280791753\n"
     ]
    }
   ],
   "source": [
    "print('Accuracy of random forrest classifier:',accuracy_score(y_test,rfc.predict(x_test)))"
   ]
  },
  {
   "cell_type": "code",
   "execution_count": 48,
   "id": "70a2a7b4",
   "metadata": {
    "execution": {
     "iopub.execute_input": "2022-06-07T14:42:46.713707Z",
     "iopub.status.busy": "2022-06-07T14:42:46.713059Z",
     "iopub.status.idle": "2022-06-07T14:42:47.440872Z",
     "shell.execute_reply": "2022-06-07T14:42:47.439709Z"
    },
    "papermill": {
     "duration": 0.753428,
     "end_time": "2022-06-07T14:42:47.443254",
     "exception": false,
     "start_time": "2022-06-07T14:42:46.689826",
     "status": "completed"
    },
    "tags": []
   },
   "outputs": [
    {
     "name": "stdout",
     "output_type": "stream",
     "text": [
      "Classification Report:\n",
      "               precision    recall  f1-score   support\n",
      "\n",
      "           0       0.71      0.72      0.71     10788\n",
      "           1       0.69      0.67      0.68      9875\n",
      "\n",
      "    accuracy                           0.70     20663\n",
      "   macro avg       0.70      0.70      0.70     20663\n",
      "weighted avg       0.70      0.70      0.70     20663\n",
      "\n"
     ]
    }
   ],
   "source": [
    "print('Classification Report:\\n',classification_report(y_test,rfc.predict(x_test)))"
   ]
  },
  {
   "cell_type": "markdown",
   "id": "89c2d453",
   "metadata": {
    "papermill": {
     "duration": 0.021939,
     "end_time": "2022-06-07T14:42:47.487805",
     "exception": false,
     "start_time": "2022-06-07T14:42:47.465866",
     "status": "completed"
    },
    "tags": []
   },
   "source": [
    "## Evalution of above models"
   ]
  },
  {
   "cell_type": "code",
   "execution_count": 49,
   "id": "cb0796b4",
   "metadata": {
    "execution": {
     "iopub.execute_input": "2022-06-07T14:42:47.534399Z",
     "iopub.status.busy": "2022-06-07T14:42:47.533224Z",
     "iopub.status.idle": "2022-06-07T14:42:47.537462Z",
     "shell.execute_reply": "2022-06-07T14:42:47.536860Z"
    },
    "papermill": {
     "duration": 0.029203,
     "end_time": "2022-06-07T14:42:47.539079",
     "exception": false,
     "start_time": "2022-06-07T14:42:47.509876",
     "status": "completed"
    },
    "tags": []
   },
   "outputs": [],
   "source": [
    "from sklearn.metrics import plot_confusion_matrix,plot_roc_curve,plot_precision_recall_curve"
   ]
  },
  {
   "cell_type": "markdown",
   "id": "fdaf772e",
   "metadata": {
    "papermill": {
     "duration": 0.021944,
     "end_time": "2022-06-07T14:42:47.583216",
     "exception": false,
     "start_time": "2022-06-07T14:42:47.561272",
     "status": "completed"
    },
    "tags": []
   },
   "source": [
    "### Based on confusion matrix"
   ]
  },
  {
   "cell_type": "code",
   "execution_count": 50,
   "id": "5acb31d3",
   "metadata": {
    "execution": {
     "iopub.execute_input": "2022-06-07T14:42:47.629639Z",
     "iopub.status.busy": "2022-06-07T14:42:47.629021Z",
     "iopub.status.idle": "2022-06-07T14:42:48.058946Z",
     "shell.execute_reply": "2022-06-07T14:42:48.058033Z"
    },
    "papermill": {
     "duration": 0.455802,
     "end_time": "2022-06-07T14:42:48.061052",
     "exception": false,
     "start_time": "2022-06-07T14:42:47.605250",
     "status": "completed"
    },
    "tags": []
   },
   "outputs": [
    {
     "name": "stdout",
     "output_type": "stream",
     "text": [
      "Confusion matrix of Logistic Regresssion model:\n"
     ]
    },
    {
     "data": {
      "image/png": "[encoded data removed]",
      "text/plain": [
       "<Figure size 432x288 with 2 Axes>"
      ]
     },
     "metadata": {
      "needs_background": "light"
     },
     "output_type": "display_data"
    }
   ],
   "source": [
    "print('Confusion matrix of Logistic Regresssion model:')\n",
    "lgr_cf=plot_confusion_matrix(lgr,x_test,y_test,cmap='Blues_r')"
   ]
  },
  {
   "cell_type": "code",
   "execution_count": 51,
   "id": "60e1f1da",
   "metadata": {
    "execution": {
     "iopub.execute_input": "2022-06-07T14:42:48.108501Z",
     "iopub.status.busy": "2022-06-07T14:42:48.107713Z",
     "iopub.status.idle": "2022-06-07T14:42:48.975803Z",
     "shell.execute_reply": "2022-06-07T14:42:48.974913Z"
    },
    "papermill": {
     "duration": 0.894231,
     "end_time": "2022-06-07T14:42:48.978096",
     "exception": false,
     "start_time": "2022-06-07T14:42:48.083865",
     "status": "completed"
    },
    "tags": []
   },
   "outputs": [
    {
     "name": "stdout",
     "output_type": "stream",
     "text": [
      "Confusion matrix of Random Forest Classifier model:\n"
     ]
    },
    {
     "data": {
      "image/png": "[encoded data removed]",
      "text/plain": [
       "<Figure size 432x288 with 2 Axes>"
      ]
     },
     "metadata": {
      "needs_background": "light"
     },
     "output_type": "display_data"
    }
   ],
   "source": [
    "print('Confusion matrix of Random Forest Classifier model:')\n",
    "lgr_cf=plot_confusion_matrix(rfc,x_test,y_test,cmap='Blues_r')"
   ]
  },
  {
   "cell_type": "code",
   "execution_count": 52,
   "id": "c732a432",
   "metadata": {
    "execution": {
     "iopub.execute_input": "2022-06-07T14:42:49.026579Z",
     "iopub.status.busy": "2022-06-07T14:42:49.025749Z",
     "iopub.status.idle": "2022-06-07T14:42:49.256300Z",
     "shell.execute_reply": "2022-06-07T14:42:49.255322Z"
    },
    "papermill": {
     "duration": 0.257306,
     "end_time": "2022-06-07T14:42:49.258255",
     "exception": false,
     "start_time": "2022-06-07T14:42:49.000949",
     "status": "completed"
    },
    "tags": []
   },
   "outputs": [
    {
     "name": "stdout",
     "output_type": "stream",
     "text": [
      "Confusion matrix of Gradient Boosting classifier model:\n"
     ]
    },
    {
     "data": {
      "image/png": "[encoded data removed]",
      "text/plain": [
       "<Figure size 432x288 with 2 Axes>"
      ]
     },
     "metadata": {
      "needs_background": "light"
     },
     "output_type": "display_data"
    }
   ],
   "source": [
    "print('Confusion matrix of Gradient Boosting classifier model:')\n",
    "lgr_cf=plot_confusion_matrix(model,x_test,y_test,cmap='Blues_r')"
   ]
  },
  {
   "cell_type": "markdown",
   "id": "667d229a",
   "metadata": {
    "papermill": {
     "duration": 0.022745,
     "end_time": "2022-06-07T14:42:49.304449",
     "exception": false,
     "start_time": "2022-06-07T14:42:49.281704",
     "status": "completed"
    },
    "tags": []
   },
   "source": [
    "### ROC and Precision curve"
   ]
  },
  {
   "cell_type": "code",
   "execution_count": 53,
   "id": "dfa63bed",
   "metadata": {
    "execution": {
     "iopub.execute_input": "2022-06-07T14:42:49.351745Z",
     "iopub.status.busy": "2022-06-07T14:42:49.351313Z",
     "iopub.status.idle": "2022-06-07T14:42:49.569837Z",
     "shell.execute_reply": "2022-06-07T14:42:49.568865Z"
    },
    "papermill": {
     "duration": 0.244268,
     "end_time": "2022-06-07T14:42:49.571603",
     "exception": false,
     "start_time": "2022-06-07T14:42:49.327335",
     "status": "completed"
    },
    "tags": []
   },
   "outputs": [
    {
     "data": {
      "image/png": "[encoded data removed]",
      "text/plain": [
       "<Figure size 432x288 with 1 Axes>"
      ]
     },
     "metadata": {
      "needs_background": "light"
     },
     "output_type": "display_data"
    }
   ],
   "source": [
    "gbc_disp=plot_roc_curve(model,x_test,y_test)"
   ]
  },
  {
   "cell_type": "code",
   "execution_count": 54,
   "id": "d1226e1a",
   "metadata": {
    "execution": {
     "iopub.execute_input": "2022-06-07T14:42:49.619868Z",
     "iopub.status.busy": "2022-06-07T14:42:49.619437Z",
     "iopub.status.idle": "2022-06-07T14:42:50.502135Z",
     "shell.execute_reply": "2022-06-07T14:42:50.501180Z"
    },
    "papermill": {
     "duration": 0.908918,
     "end_time": "2022-06-07T14:42:50.503905",
     "exception": false,
     "start_time": "2022-06-07T14:42:49.594987",
     "status": "completed"
    },
    "tags": []
   },
   "outputs": [
    {
     "data": {
      "image/png": "[encoded data removed]",
      "text/plain": [
       "<Figure size 432x288 with 1 Axes>"
      ]
     },
     "metadata": {
      "needs_background": "light"
     },
     "output_type": "display_data"
    }
   ],
   "source": [
    "lgr_disp=plot_roc_curve(lgr,x_test,y_test)\n",
    "ax = plt.gca()\n",
    "rfc_disp = plot_roc_curve(rfc, x_test, y_test, ax=ax)\n",
    "gbc_disp.plot(ax=ax)\n",
    "plt.show()"
   ]
  },
  {
   "cell_type": "code",
   "execution_count": 55,
   "id": "da46d45d",
   "metadata": {
    "execution": {
     "iopub.execute_input": "2022-06-07T14:42:50.553859Z",
     "iopub.status.busy": "2022-06-07T14:42:50.553198Z",
     "iopub.status.idle": "2022-06-07T14:42:50.725850Z",
     "shell.execute_reply": "2022-06-07T14:42:50.725007Z"
    },
    "papermill": {
     "duration": 0.200543,
     "end_time": "2022-06-07T14:42:50.728567",
     "exception": false,
     "start_time": "2022-06-07T14:42:50.528024",
     "status": "completed"
    },
    "tags": []
   },
   "outputs": [
    {
     "data": {
      "image/png": "[encoded data removed]",
      "text/plain": [
       "<Figure size 432x288 with 1 Axes>"
      ]
     },
     "metadata": {
      "needs_background": "light"
     },
     "output_type": "display_data"
    }
   ],
   "source": [
    "gbc_prc=plot_precision_recall_curve(model,x_test,y_test)"
   ]
  },
  {
   "cell_type": "code",
   "execution_count": 56,
   "id": "a0634827",
   "metadata": {
    "execution": {
     "iopub.execute_input": "2022-06-07T14:42:50.783726Z",
     "iopub.status.busy": "2022-06-07T14:42:50.783329Z",
     "iopub.status.idle": "2022-06-07T14:42:51.695477Z",
     "shell.execute_reply": "2022-06-07T14:42:51.694675Z"
    },
    "papermill": {
     "duration": 0.939827,
     "end_time": "2022-06-07T14:42:51.697489",
     "exception": false,
     "start_time": "2022-06-07T14:42:50.757662",
     "status": "completed"
    },
    "tags": []
   },
   "outputs": [
    {
     "data": {
      "image/png": "[encoded data removed]",
      "text/plain": [
       "<Figure size 432x288 with 1 Axes>"
      ]
     },
     "metadata": {
      "needs_background": "light"
     },
     "output_type": "display_data"
    }
   ],
   "source": [
    "lgr_prc=plot_precision_recall_curve(lgr,x_test,y_test)\n",
    "ax = plt.gca()\n",
    "rfc_prc = plot_precision_recall_curve(rfc, x_test, y_test, ax=ax)\n",
    "gbc_prc.plot(ax=ax)\n",
    "plt.show()"
   ]
  },
  {
   "cell_type": "markdown",
   "id": "24806624",
   "metadata": {
    "papermill": {
     "duration": 0.024622,
     "end_time": "2022-06-07T14:42:51.746945",
     "exception": false,
     "start_time": "2022-06-07T14:42:51.722323",
     "status": "completed"
    },
    "tags": []
   },
   "source": [
    "# Result of evalution\n",
    "* Considering all the obervation and metrics result, logistic regression and Gradient Boosting are performing similar.\n",
    "* But based on ROC and Precision curve Gradient Boosting is at top of all the three models.\n",
    "* Hence here choosing Gradient boosting as final model. "
   ]
  },
  {
   "cell_type": "code",
   "execution_count": 57,
   "id": "20bfa087",
   "metadata": {
    "execution": {
     "iopub.execute_input": "2022-06-07T14:42:51.800258Z",
     "iopub.status.busy": "2022-06-07T14:42:51.799336Z",
     "iopub.status.idle": "2022-06-07T14:42:51.807235Z",
     "shell.execute_reply": "2022-06-07T14:42:51.806561Z"
    },
    "papermill": {
     "duration": 0.036176,
     "end_time": "2022-06-07T14:42:51.809037",
     "exception": false,
     "start_time": "2022-06-07T14:42:51.772861",
     "status": "completed"
    },
    "tags": []
   },
   "outputs": [],
   "source": [
    "pickle.dump(model,open('Healtcare.pkl','wb'))"
   ]
  },
  {
   "cell_type": "code",
   "execution_count": 58,
   "id": "56f162db",
   "metadata": {
    "execution": {
     "iopub.execute_input": "2022-06-07T14:42:51.860371Z",
     "iopub.status.busy": "2022-06-07T14:42:51.859681Z",
     "iopub.status.idle": "2022-06-07T14:42:51.867330Z",
     "shell.execute_reply": "2022-06-07T14:42:51.866678Z"
    },
    "papermill": {
     "duration": 0.035481,
     "end_time": "2022-06-07T14:42:51.869170",
     "exception": false,
     "start_time": "2022-06-07T14:42:51.833689",
     "status": "completed"
    },
    "tags": []
   },
   "outputs": [],
   "source": [
    "pic=pickle.load(open('Healtcare.pkl','rb'))"
   ]
  },
  {
   "cell_type": "code",
   "execution_count": 59,
   "id": "59cba3d0",
   "metadata": {
    "execution": {
     "iopub.execute_input": "2022-06-07T14:42:51.920631Z",
     "iopub.status.busy": "2022-06-07T14:42:51.919998Z",
     "iopub.status.idle": "2022-06-07T14:42:51.926123Z",
     "shell.execute_reply": "2022-06-07T14:42:51.925537Z"
    },
    "papermill": {
     "duration": 0.033857,
     "end_time": "2022-06-07T14:42:51.927801",
     "exception": false,
     "start_time": "2022-06-07T14:42:51.893944",
     "status": "completed"
    },
    "tags": []
   },
   "outputs": [
    {
     "data": {
      "text/plain": [
       "array([1])"
      ]
     },
     "execution_count": 59,
     "metadata": {},
     "output_type": "execute_result"
    }
   ],
   "source": [
    "pic.predict([[52.0,1,165,64.0,130,70,3,1,0,0]])"
   ]
  },
  {
   "cell_type": "code",
   "execution_count": 60,
   "id": "977ea8ea",
   "metadata": {
    "execution": {
     "iopub.execute_input": "2022-06-07T14:42:51.979783Z",
     "iopub.status.busy": "2022-06-07T14:42:51.979165Z",
     "iopub.status.idle": "2022-06-07T14:42:51.983085Z",
     "shell.execute_reply": "2022-06-07T14:42:51.982195Z"
    },
    "papermill": {
     "duration": 0.031628,
     "end_time": "2022-06-07T14:42:51.984793",
     "exception": false,
     "start_time": "2022-06-07T14:42:51.953165",
     "status": "completed"
    },
    "tags": []
   },
   "outputs": [],
   "source": [
    "import sklearn"
   ]
  },
  {
   "cell_type": "code",
   "execution_count": 61,
   "id": "66fe5a74",
   "metadata": {
    "execution": {
     "iopub.execute_input": "2022-06-07T14:42:52.036908Z",
     "iopub.status.busy": "2022-06-07T14:42:52.036372Z",
     "iopub.status.idle": "2022-06-07T14:42:52.042133Z",
     "shell.execute_reply": "2022-06-07T14:42:52.041459Z"
    },
    "papermill": {
     "duration": 0.035036,
     "end_time": "2022-06-07T14:42:52.044851",
     "exception": false,
     "start_time": "2022-06-07T14:42:52.009815",
     "status": "completed"
    },
    "tags": []
   },
   "outputs": [
    {
     "name": "stdout",
     "output_type": "stream",
     "text": [
      "sklearn: 1.0.2\n"
     ]
    }
   ],
   "source": [
    "print('sklearn: {}'.format(sklearn.__version__))"
   ]
  }
 ],
 "metadata": {
  "kernelspec": {
   "display_name": "Python 3",
   "language": "python",
   "name": "python3"
  },
  "language_info": {
   "codemirror_mode": {
    "name": "ipython",
    "version": 3
   },
   "file_extension": ".py",
   "mimetype": "text/x-python",
   "name": "python",
   "nbconvert_exporter": "python",
   "pygments_lexer": "ipython3",
   "version": "3.7.12"
  },
  "papermill": {
   "default_parameters": {},
   "duration": 42.81859,
   "end_time": "2022-06-07T14:42:52.892637",
   "environment_variables": {},
   "exception": null,
   "input_path": "__notebook__.ipynb",
   "output_path": "__notebook__.ipynb",
   "parameters": {},
   "start_time": "2022-06-07T14:42:10.074047",
   "version": "2.3.4"
  }
 },
 "nbformat": 4,
 "nbformat_minor": 5
}
